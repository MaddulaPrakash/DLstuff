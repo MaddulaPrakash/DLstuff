{
  "cells": [
    {
      "cell_type": "markdown",
      "metadata": {
        "id": "N56aKbUmBa80"
      },
      "source": [
        "# Deep Learning Assignment 4: CNNs for Face Identification \n",
        "\n",
        "We will perform face identification using a subset of the [Labeled Faces in the Wild (LFW) dataset](http://vis-www.cs.umass.edu/lfw/). Face identification is a multi-class calssification problem where we have training/testing images for a set of subjects (classes). In 2014, researchers were able to surpass human accuracy in facial identification tasks using CNN models (along with advanced deep learning techniques)! \n",
        "\n",
        "We will observe the performance of a traditional face identification method, [Eigenfaces](https://en.wikipedia.org/wiki/Eigenface). We will then build a CNN model in order to surpass the accuracy of the traditional Eigenfaces technique. In the process, we will learn about the great power of CNNs!\n",
        "\n",
        "### Requirements\n",
        "\n",
        "1. Python 3.6\n",
        "2. `pip install numpy`\n",
        "3. `pip install sklearn`\n",
        "4. `pip install matplotlib`\n",
        "5. `pip install tensorflow==2.0.0`\n",
        "\n",
        "\n",
        "### Rubric\n",
        "\n",
        "1. Complete the sample CNN as specified by the comments (2 pts.)\n",
        "2. Build three CNN models which surpass the traditional Eigenface method test accuracy. In each model use different architectures and optimizers. Points will be not be awarded if models architectures are not sufficiently different (3 pts.)\n",
        "3. Build a fourth CNN model which achieves >70% test accuracy (3 pts.)\n",
        "4. Display a correctly identified image and a training image corresponding to the correct training subject (1 pts.)\n",
        "5. Display a incorrectly identified image and a training image corresponding to the correct training subject (1 pts.)\n"
      ]
    },
    {
      "cell_type": "code",
      "execution_count": 2,
      "metadata": {
        "scrolled": true,
        "id": "S1y6RTm1Ba82"
      },
      "outputs": [],
      "source": [
        "import numpy as np\n",
        "from sklearn.utils.class_weight import compute_class_weight\n",
        "from sklearn.metrics import accuracy_score\n",
        "from sklearn.datasets import fetch_lfw_people\n",
        "from sklearn.decomposition import PCA\n",
        "from sklearn.model_selection import train_test_split\n",
        "import tensorflow as tf\n",
        "from tensorflow.keras.models import Model\n",
        "from tensorflow.keras.layers import Input, Dense, Activation, Conv2D, MaxPool2D, AveragePooling2D, Flatten, Dropout, BatchNormalization, GlobalAvgPool2D\n",
        "from tensorflow.keras.optimizers import SGD, RMSprop, Adam\n",
        "import matplotlib.pyplot as plt\n",
        "\n",
        "np.random.seed(42)\n",
        "tf.random.set_seed(42)"
      ]
    },
    {
      "cell_type": "markdown",
      "metadata": {
        "id": "a7iIcqgIBa84"
      },
      "source": [
        "Let's start by downloading and setting up a subset of the aligned and segmented version of the LFW dataset. We will only get subjects with at least 20 corresponding images. We will also get the grayscale versions of the images. This may take a few minutes . . ."
      ]
    },
    {
      "cell_type": "code",
      "execution_count": 3,
      "metadata": {
        "scrolled": true,
        "id": "oFLyoToQBa84"
      },
      "outputs": [],
      "source": [
        "data_x, data_y = fetch_lfw_people(min_faces_per_person=20, color=False, return_X_y=True)\n",
        "# normalize pixel values to [0,1]\n",
        "data_x = data_x / 255."
      ]
    },
    {
      "cell_type": "markdown",
      "metadata": {
        "id": "Xur7PuuUBa84"
      },
      "source": [
        "The downloaded `data_x` will be the flattened vector representation of the images. \n",
        "\n",
        "We will reshape the vector respresentations back into the original grayscale images and store the images back in `data_x`."
      ]
    },
    {
      "cell_type": "code",
      "execution_count": 4,
      "metadata": {
        "colab": {
          "base_uri": "https://localhost:8080/"
        },
        "id": "6KWOG14HBa85",
        "outputId": "d2ed3d6f-5896-48be-ab07-6571fc13ef0f"
      },
      "outputs": [
        {
          "output_type": "stream",
          "name": "stdout",
          "text": [
            "Number of subjects: 62\n",
            "Number of images: 3023\n",
            "\n",
            "data_x shape: (3023, 62, 47, 1)\n",
            "data_y shape: (3023,)\n"
          ]
        }
      ],
      "source": [
        "num_subjects = np.unique(data_y).shape[0]\n",
        "print(\"Number of subjects: {}\".format(np.unique(data_y).shape[0]))\n",
        "print(\"Number of images: {}\\n\".format(data_y.shape[0]))\n",
        "\n",
        "# image_x will contain the original grayscale images \n",
        "data_x = np.copy(data_x.reshape((data_x.shape[0], 62, 47, 1)))\n",
        "\n",
        "print(\"data_x shape: {}\".format(data_x.shape))\n",
        "print(\"data_y shape: {}\".format(data_y.shape))"
      ]
    },
    {
      "cell_type": "markdown",
      "metadata": {
        "id": "MjYfiuNYBa85"
      },
      "source": [
        "As we can see, the dataset is made up of `3023` images of `62` subjects (or classes). \n",
        "\n",
        "Each image is a `62x47x1`-dimensional matrix containing 8-bit (0-255) grayscale pixel values.\n",
        "\n",
        "Let's visualize a few of the grayscale images."
      ]
    },
    {
      "cell_type": "code",
      "execution_count": 7,
      "metadata": {
        "scrolled": true,
        "colab": {
          "base_uri": "https://localhost:8080/",
          "height": 1000
        },
        "id": "o8ZtYmiuBa85",
        "outputId": "478a42bf-3207-4e0d-83cc-790d91fef826"
      },
      "outputs": [
        {
          "output_type": "display_data",
          "data": {
            "text/plain": [
              "<Figure size 432x288 with 1 Axes>"
            ],
            "image/png": "[encoded data removed]"
          },
          "metadata": {
            "needs_background": "light"
          }
        },
        {
          "output_type": "display_data",
          "data": {
            "text/plain": [
              "<Figure size 432x288 with 1 Axes>"
            ],
            "image/png": "[encoded data removed]"
          },
          "metadata": {
            "needs_background": "light"
          }
        },
        {
          "output_type": "display_data",
          "data": {
            "text/plain": [
              "<Figure size 432x288 with 1 Axes>"
            ],
            "image/png": "[encoded data removed]"
          },
          "metadata": {
            "needs_background": "light"
          }
        },
        {
          "output_type": "display_data",
          "data": {
            "text/plain": [
              "<Figure size 432x288 with 1 Axes>"
            ],
            "image/png": "[encoded data removed]"
          },
          "metadata": {
            "needs_background": "light"
          }
        },
        {
          "output_type": "display_data",
          "data": {
            "text/plain": [
              "<Figure size 432x288 with 1 Axes>"
            ],
            "image/png": "[encoded data removed]"
          },
          "metadata": {
            "needs_background": "light"
          }
        }
      ],
      "source": [
        "np.random.seed(42)\n",
        "for i in range(5):\n",
        "    rnd_idx = np.random.choice(data_y.shape[0])\n",
        "    rnd_img = data_x[rnd_idx]\n",
        "    plt.figure()\n",
        "    plt.imshow(rnd_img[:, :, 0], cmap=\"gray\")"
      ]
    },
    {
      "cell_type": "markdown",
      "metadata": {
        "id": "dicjhEOaBa86"
      },
      "source": [
        "Now, let's split the dataset into train and test sets so we can perform face identification!\n",
        "\n",
        "We will perform a `90/10` stratified split. This means that `90%` of each subject's images are placed in the train set, while the remaining `10%` of each subject's images are placed into the test set. "
      ]
    },
    {
      "cell_type": "code",
      "execution_count": 5,
      "metadata": {
        "colab": {
          "base_uri": "https://localhost:8080/"
        },
        "id": "Hr4MMRj0Ba86",
        "outputId": "a696b3eb-5903-4869-bf2c-eaee61d225db"
      },
      "outputs": [
        {
          "output_type": "stream",
          "name": "stdout",
          "text": [
            "train_x shape: (2720, 62, 47, 1)\n",
            "train_y shape: (2720,)\n",
            "\n",
            "test_x shape: (303, 62, 47, 1)\n",
            "test_y shape: (303,)\n"
          ]
        }
      ],
      "source": [
        "train_x, test_x, train_y, test_y = train_test_split(data_x, data_y, test_size=0.1, random_state=42)\n",
        "\n",
        "print(\"train_x shape: {}\".format(train_x.shape))\n",
        "print(\"train_y shape: {}\\n\".format(train_y.shape))\n",
        "\n",
        "print(\"test_x shape: {}\".format(test_x.shape))\n",
        "print(\"test_y shape: {}\".format(test_y.shape))"
      ]
    },
    {
      "cell_type": "markdown",
      "metadata": {
        "id": "EbV1jb7FBa86"
      },
      "source": [
        "### Eigenfaces Overview\n",
        "\n",
        "Eigenfaces is a face identification technique proposed in 1987. It was a very popular algorithm through the 1990's and is still used today as a baseline algorithm when gauging the performance of proposed face identification techniques. Eigenfaces is used to extract features from facial images. Such facial features are more useful in identification tasks than the corresponding oringinal images. The facial features can then be used for identification by being classified by a multi-class classifier, such a logistic regression model. \n",
        "\n",
        "### Eigenfaces Details\n",
        "\n",
        "Eigenfaces is a Principcal Componet Analysis (PCA)-based dimensionality-reduction technique. Eigenfaces deals with the flattened vector representations of the face images. \n",
        "\n",
        "We give the vector representation of the training images as input to the algorithm. The output of the algoirthm is a set of Eigenfaces (vectors) which we can use to project vector representations of images into a lower-dimensional space which (hopefully) encode important facial features. \n",
        "\n",
        "Since the lower-dimensional space captures important facial features, Eigenfaces is used as a feature extraction technique. Given a facial image, we can reshape the image into a vector. Using the Eigenfaces, we reduce the dimensionality of the original vector into a vector which is more useful in identifying its corresponging subject. Therefore, we will use the Eigenfaces to extract facial features. Then, we will use a simple logistic regression classifier to classify the resulting facial features.\n",
        "\n",
        "Let's start by flattening the training facial images. Then we will continue by computing the Eigenfaces which capture `95%` of the variance of the original dataset."
      ]
    },
    {
      "cell_type": "code",
      "execution_count": 6,
      "metadata": {
        "colab": {
          "base_uri": "https://localhost:8080/"
        },
        "id": "0OG7wbyIBa86",
        "outputId": "e25edbc6-5858-4b4d-b140-906eea21dc17"
      },
      "outputs": [
        {
          "output_type": "stream",
          "name": "stdout",
          "text": [
            "Training vectors shape: (2720, 2914)\n",
            "Eigenfaces shape: (202, 2914)\n"
          ]
        }
      ],
      "source": [
        "# flatten images \n",
        "train_vector_x = train_x.reshape((train_x.shape[0], train_x.shape[1]*train_x.shape[2])) \n",
        "test_vector_x = test_x.reshape((test_x.shape[0], test_x.shape[1]*test_x.shape[2])) \n",
        "\n",
        "# retrieve eigenfaces\n",
        "pca = PCA(n_components=0.95, random_state=42)\n",
        "pca.fit(train_vector_x)\n",
        "eigenfaces = pca.components_\n",
        "\n",
        "print(\"Training vectors shape: {}\".format(train_vector_x.shape))\n",
        "print(\"Eigenfaces shape: {}\".format(eigenfaces.shape))"
      ]
    },
    {
      "cell_type": "markdown",
      "metadata": {
        "id": "aYG7sQDpBa86"
      },
      "source": [
        "As we see, if we flatten the training images to gather their vector representations, we recieve `2720` vectors of size `2914`. We also see that we have found `173` Eigenfaces vectors of size `2914`.\n",
        "\n",
        "If we reshape the set of Eigenfaces to the shape of the original images, they reveal intesting ghost faces (i.e. \"Eigenfaces\").\n",
        "\n",
        "Let's view the first `10` Eigenfaces."
      ]
    },
    {
      "cell_type": "code",
      "execution_count": 7,
      "metadata": {
        "colab": {
          "base_uri": "https://localhost:8080/",
          "height": 1000
        },
        "id": "-qilsvczBa87",
        "outputId": "3b405ce1-500d-4915-d609-2ac5d9cad0e2"
      },
      "outputs": [
        {
          "output_type": "display_data",
          "data": {
            "text/plain": [
              "<Figure size 432x288 with 1 Axes>"
            ],
            "image/png": "[encoded data removed]"
          },
          "metadata": {
            "needs_background": "light"
          }
        },
        {
          "output_type": "display_data",
          "data": {
            "text/plain": [
              "<Figure size 432x288 with 1 Axes>"
            ],
            "image/png": "[encoded data removed]"
          },
          "metadata": {
            "needs_background": "light"
          }
        },
        {
          "output_type": "display_data",
          "data": {
            "text/plain": [
              "<Figure size 432x288 with 1 Axes>"
            ],
            "image/png": "[encoded data removed]"
          },
          "metadata": {
            "needs_background": "light"
          }
        },
        {
          "output_type": "display_data",
          "data": {
            "text/plain": [
              "<Figure size 432x288 with 1 Axes>"
            ],
            "image/png": "[encoded data removed]"
          },
          "metadata": {
            "needs_background": "light"
          }
        },
        {
          "output_type": "display_data",
          "data": {
            "text/plain": [
              "<Figure size 432x288 with 1 Axes>"
            ],
            "image/png": "[encoded data removed]"
          },
          "metadata": {
            "needs_background": "light"
          }
        },
        {
          "output_type": "display_data",
          "data": {
            "text/plain": [
              "<Figure size 432x288 with 1 Axes>"
            ],
            "image/png": "[encoded data removed]"
          },
          "metadata": {
            "needs_background": "light"
          }
        },
        {
          "output_type": "display_data",
          "data": {
            "text/plain": [
              "<Figure size 432x288 with 1 Axes>"
            ],
            "image/png": "[encoded data removed]"
          },
          "metadata": {
            "needs_background": "light"
          }
        },
        {
          "output_type": "display_data",
          "data": {
            "text/plain": [
              "<Figure size 432x288 with 1 Axes>"
            ],
            "image/png": "[encoded data removed]"
          },
          "metadata": {
            "needs_background": "light"
          }
        },
        {
          "output_type": "display_data",
          "data": {
            "text/plain": [
              "<Figure size 432x288 with 1 Axes>"
            ],
            "image/png": "[encoded data removed]"
          },
          "metadata": {
            "needs_background": "light"
          }
        },
        {
          "output_type": "display_data",
          "data": {
            "text/plain": [
              "<Figure size 432x288 with 1 Axes>"
            ],
            "image/png": "[encoded data removed]"
          },
          "metadata": {
            "needs_background": "light"
          }
        }
      ],
      "source": [
        "for i in range(10):\n",
        "    eigenface = eigenfaces[i].reshape((train_x.shape[1], train_x.shape[2]))\n",
        "    plt.figure()\n",
        "    plt.imshow(eigenface, cmap=\"gray\")"
      ]
    },
    {
      "cell_type": "markdown",
      "metadata": {
        "id": "oiOCjupPBa87"
      },
      "source": [
        "Spooky!\n",
        "\n",
        "Now, let's use the Eigenfaces to extract facial features from the training and test set vectors. Since we have `173` Eigenfaces, we will reduce the dimensionality of the `2914`-dimensional train/test vectors to `173`-dimensional train/test feature vectors."
      ]
    },
    {
      "cell_type": "code",
      "execution_count": 8,
      "metadata": {
        "colab": {
          "base_uri": "https://localhost:8080/"
        },
        "id": "WsaDVQ84Ba87",
        "outputId": "e66e2486-0eb6-435c-8753-9f6e0208dca3"
      },
      "outputs": [
        {
          "output_type": "stream",
          "name": "stdout",
          "text": [
            "Training vectors shape: (2720, 2914)\n",
            "Training features shape: (2720, 202)\n",
            "Testing vectors shape: (303, 2914)\n",
            "Testing features shape: (303, 202)\n"
          ]
        }
      ],
      "source": [
        "train_features_x = np.dot(train_vector_x, eigenfaces.T)\n",
        "test_features_x = np.dot(test_vector_x, eigenfaces.T)\n",
        "\n",
        "print(\"Training vectors shape: {}\".format(train_vector_x.shape))\n",
        "print(\"Training features shape: {}\".format(train_features_x.shape))\n",
        "print(\"Testing vectors shape: {}\".format(test_vector_x.shape))\n",
        "print(\"Testing features shape: {}\".format(test_features_x.shape))"
      ]
    },
    {
      "cell_type": "markdown",
      "metadata": {
        "id": "UX6wn3N4Ba87"
      },
      "source": [
        "Great! Now that we have extracted facial features from the train and testing set, let's perform facial identification using a simple logistic regression model!"
      ]
    },
    {
      "cell_type": "code",
      "execution_count": 9,
      "metadata": {
        "scrolled": true,
        "colab": {
          "base_uri": "https://localhost:8080/"
        },
        "id": "J8az_4nHBa87",
        "outputId": "a0f5f5ff-ad58-45a6-b653-0fb5f65526b3"
      },
      "outputs": [
        {
          "output_type": "stream",
          "name": "stdout",
          "text": [
            "Model: \"model\"\n",
            "_________________________________________________________________\n",
            " Layer (type)                Output Shape              Param #   \n",
            "=================================================================\n",
            " input_1 (InputLayer)        [(None, 202)]             0         \n",
            "                                                                 \n",
            " dense (Dense)               (None, 62)                12586     \n",
            "                                                                 \n",
            " activation (Activation)     (None, 62)                0         \n",
            "                                                                 \n",
            "=================================================================\n",
            "Total params: 12,586\n",
            "Trainable params: 12,586\n",
            "Non-trainable params: 0\n",
            "_________________________________________________________________\n",
            "None\n"
          ]
        }
      ],
      "source": [
        "# specify the input size of the feature vectors\n",
        "features = Input((train_features_x.shape[1],))\n",
        "# a single fully-connected layer to map the features to a logit vector with one logit per subject\n",
        "x = Dense(num_subjects)(features)\n",
        "# use softmax activation to convert the logits to class probabilities for each subject\n",
        "predictions = Activation(\"softmax\")(x)\n",
        "\n",
        "# create the model using the layers we defined previously\n",
        "logistic_regression = Model(inputs=features, outputs=predictions)\n",
        "\n",
        "# compile the model so that it uses Adam for optimization during training with cross-entropy loss\n",
        "logistic_regression.compile(optimizer=Adam(), loss=\"sparse_categorical_crossentropy\", metrics=[\"acc\"])\n",
        "\n",
        "# print out a summary of the model achitecture\n",
        "print(logistic_regression.summary())"
      ]
    },
    {
      "cell_type": "code",
      "execution_count": 46,
      "metadata": {
        "colab": {
          "base_uri": "https://localhost:8080/"
        },
        "id": "deVqxqAPBa88",
        "outputId": "45d3ebe4-50eb-4817-c444-b4603f34df2a"
      },
      "outputs": [
        {
          "output_type": "stream",
          "name": "stdout",
          "text": [
            "85/85 [==============================] - 0s 1ms/step\n",
            "10/10 [==============================] - 0s 2ms/step\n",
            "\n",
            "Training accuracy using Eigenfaces and logistic regression model: 0.6106617647058824\n",
            "Testing accuracy using Eigenfaces and logistic regression model: 0.39933993399339934\n"
          ]
        }
      ],
      "source": [
        "# since the subjects have different numbers of images, \n",
        "# we need to balance how much each subject contributes to the cross-entropy loss\n",
        "class_weights = compute_class_weight(\"balanced\", classes = np.unique(train_y), y = train_y)\n",
        "class_weights_dict = dict(enumerate(class_weights))\n",
        "\n",
        "# train model, verbose set to 0 to supress output, wait a moment for training to complete\n",
        "logistic_regression.fit(train_features_x, train_y, validation_data=(test_features_x, test_y), \n",
        "                        class_weight=class_weights_dict, \n",
        "                        epochs=75, batch_size=128, verbose=0)\n",
        "\n",
        "# evaluate model, get train/test accuracy\n",
        "train_eig_pred = np.argmax(logistic_regression.predict(train_features_x), axis=1)\n",
        "test_eig_pred = np.argmax(logistic_regression.predict(test_features_x), axis=1)\n",
        "print(\"\\nTraining accuracy using Eigenfaces and logistic regression model: {}\".format(accuracy_score(train_y, train_eig_pred)))\n",
        "print(\"Testing accuracy using Eigenfaces and logistic regression model: {}\".format(accuracy_score(test_y, test_eig_pred)))"
      ]
    },
    {
      "cell_type": "markdown",
      "metadata": {
        "id": "BEwZhwS9Ba88"
      },
      "source": [
        "# Your turn!\n",
        "\n",
        "### Sample CNN Model\n",
        "The Eigenfaces and logistic regression model doesn't perform that well on the unseen test set. Let's see how a simple CNN model compares.\n",
        "\n",
        "Rather than dealing with vectors, we will begin working with the grayscale images directly. \n",
        "\n",
        "Remember that a CNN learns convolution filters which extract the most useful features. Then, a small neural network at the end of the CNN architecture performs the multi-class classification. Therefore, the CNN will make things less complex for us as the CNN will learn to perform both feature extraction and classification! \n",
        "\n",
        "<b> Complete the section below</b>"
      ]
    },
    {
      "cell_type": "code",
      "execution_count": 47,
      "metadata": {
        "colab": {
          "base_uri": "https://localhost:8080/"
        },
        "id": "MmxLEXoJBa88",
        "outputId": "11766f0b-700d-4767-bf49-4f5252ec3ec6"
      },
      "outputs": [
        {
          "output_type": "stream",
          "name": "stderr",
          "text": [
            "WARNING:absl:`lr` is deprecated, please use `learning_rate` instead, or use the legacy optimizer, e.g.,tf.keras.optimizers.legacy.Adam.\n"
          ]
        },
        {
          "output_type": "stream",
          "name": "stdout",
          "text": [
            "Model: \"model_7\"\n",
            "_________________________________________________________________\n",
            " Layer (type)                Output Shape              Param #   \n",
            "=================================================================\n",
            " input_11 (InputLayer)       [(None, 62, 47, 1)]       0         \n",
            "                                                                 \n",
            " conv2d_140 (Conv2D)         (None, 54, 39, 32)        2624      \n",
            "                                                                 \n",
            " max_pooling2d_80 (MaxPoolin  (None, 27, 19, 32)       0         \n",
            " g2D)                                                            \n",
            "                                                                 \n",
            " conv2d_141 (Conv2D)         (None, 17, 9, 64)         247872    \n",
            "                                                                 \n",
            " max_pooling2d_81 (MaxPoolin  (None, 8, 4, 64)         0         \n",
            " g2D)                                                            \n",
            "                                                                 \n",
            " flatten_20 (Flatten)        (None, 2048)              0         \n",
            "                                                                 \n",
            " dropout_65 (Dropout)        (None, 2048)              0         \n",
            "                                                                 \n",
            " dense_36 (Dense)            (None, 256)               524544    \n",
            "                                                                 \n",
            " dropout_66 (Dropout)        (None, 256)               0         \n",
            "                                                                 \n",
            " dense_37 (Dense)            (None, 62)                15934     \n",
            "                                                                 \n",
            " dense_38 (Dense)            (None, 62)                3906      \n",
            "                                                                 \n",
            "=================================================================\n",
            "Total params: 794,880\n",
            "Trainable params: 794,880\n",
            "Non-trainable params: 0\n",
            "_________________________________________________________________\n",
            "None\n"
          ]
        }
      ],
      "source": [
        "# COMPLETE THE CODE ACCORDING TO THE COMMENTS\n",
        "from tensorflow.keras.layers import Input, Conv2D, MaxPooling2D, Flatten, Dense, Dropout, LeakyReLU\n",
        "num_classes = len(np.unique(train_y))\n",
        "\n",
        "# specify the input size of the images\n",
        "images = Input((train_x.shape[1], train_x.shape[2], 1,))\n",
        "# a convolution layer of 32 filters of size 9x9 to extract features (valid padding)\n",
        "x = Conv2D(32, (9, 9), activation='LeakyReLU', padding='valid')(images)\n",
        "# a maxpooling layer to down-sample features with pool size (2, 2)\n",
        "x = MaxPooling2D((2, 2))(x)\n",
        "# another convolution layer of 64 filters of size 11x11 to extract features (valid padding)\n",
        "x = Conv2D(64, (11, 11), activation='LeakyReLU', padding='valid')(x)\n",
        "# a maxpooling layer to down-sample features with pool size (2, 2)\n",
        "x = MaxPooling2D((2, 2))(x)\n",
        "# flatten extracted features to form feature vector\n",
        "x = Flatten()(x)\n",
        "# a drop out layer for regularization (25% probability)\n",
        "x = Dropout(0.25)(x)\n",
        "# first fully-connected layer to map the features to vectors of size 256\n",
        "x = Dense(256, activation='LeakyReLU')(x)\n",
        "# anoter drop out layer for regularization (25% probability)\n",
        "x = Dropout(0.25)(x)\n",
        "# a second fully-connected layer to map the features to a logit vector with one logit per subject\n",
        "x = Dense(num_classes)(x)\n",
        "# use softmax activation to convert the logits to class probabilities for each subject\n",
        "predictions = Dense(num_classes, activation='softmax')(x)\n",
        "\n",
        "# create the model using the layers we defined previously\n",
        "sample_cnn = Model(inputs=images, outputs=predictions)\n",
        "\n",
        "# compile the model so that it uses Adam for optimization during training with cross-entropy loss\n",
        "sample_cnn.compile(optimizer=Adam(lr=0.001), loss=\"sparse_categorical_crossentropy\", metrics=[\"acc\"])\n",
        "\n",
        "# print out a summary of the model achitecture\n",
        "print(sample_cnn.summary())"
      ]
    },
    {
      "cell_type": "code",
      "execution_count": 48,
      "metadata": {
        "colab": {
          "base_uri": "https://localhost:8080/"
        },
        "id": "Qsv935q-Ba88",
        "outputId": "6b31fcaa-2878-4042-8787-a6d0fb223b5f"
      },
      "outputs": [
        {
          "output_type": "stream",
          "name": "stdout",
          "text": [
            "Epoch 1/30\n",
            "43/43 [==============================] - 2s 14ms/step - loss: 4.1333 - acc: 0.0081 - val_loss: 4.1227 - val_acc: 0.0165\n",
            "Epoch 2/30\n",
            "43/43 [==============================] - 0s 8ms/step - loss: 4.1318 - acc: 0.0110 - val_loss: 4.1338 - val_acc: 0.0099\n",
            "Epoch 3/30\n",
            "43/43 [==============================] - 0s 8ms/step - loss: 4.1320 - acc: 0.0074 - val_loss: 4.1280 - val_acc: 0.0000e+00\n",
            "Epoch 4/30\n",
            "43/43 [==============================] - 0s 8ms/step - loss: 4.1272 - acc: 0.0125 - val_loss: 4.1405 - val_acc: 0.0132\n",
            "Epoch 5/30\n",
            "43/43 [==============================] - 0s 8ms/step - loss: 4.0901 - acc: 0.0213 - val_loss: 4.0444 - val_acc: 0.0165\n",
            "Epoch 6/30\n",
            "43/43 [==============================] - 0s 8ms/step - loss: 4.0112 - acc: 0.0239 - val_loss: 4.0086 - val_acc: 0.0429\n",
            "Epoch 7/30\n",
            "43/43 [==============================] - 0s 8ms/step - loss: 3.8923 - acc: 0.0320 - val_loss: 3.8966 - val_acc: 0.0297\n",
            "Epoch 8/30\n",
            "43/43 [==============================] - 0s 8ms/step - loss: 3.6824 - acc: 0.0585 - val_loss: 3.7343 - val_acc: 0.0660\n",
            "Epoch 9/30\n",
            "43/43 [==============================] - 0s 8ms/step - loss: 3.4747 - acc: 0.0776 - val_loss: 3.6432 - val_acc: 0.0726\n",
            "Epoch 10/30\n",
            "43/43 [==============================] - 0s 8ms/step - loss: 3.3515 - acc: 0.1000 - val_loss: 3.6390 - val_acc: 0.1155\n",
            "Epoch 11/30\n",
            "43/43 [==============================] - 0s 8ms/step - loss: 3.2066 - acc: 0.1210 - val_loss: 3.5416 - val_acc: 0.1320\n",
            "Epoch 12/30\n",
            "43/43 [==============================] - 0s 8ms/step - loss: 3.0694 - acc: 0.1426 - val_loss: 3.4440 - val_acc: 0.1353\n",
            "Epoch 13/30\n",
            "43/43 [==============================] - 0s 8ms/step - loss: 2.9229 - acc: 0.1831 - val_loss: 3.3005 - val_acc: 0.1716\n",
            "Epoch 14/30\n",
            "43/43 [==============================] - 0s 9ms/step - loss: 2.7365 - acc: 0.2265 - val_loss: 3.1149 - val_acc: 0.2343\n",
            "Epoch 15/30\n",
            "43/43 [==============================] - 0s 9ms/step - loss: 2.5790 - acc: 0.2695 - val_loss: 2.9597 - val_acc: 0.2838\n",
            "Epoch 16/30\n",
            "43/43 [==============================] - 0s 10ms/step - loss: 2.4855 - acc: 0.3051 - val_loss: 3.0208 - val_acc: 0.2442\n",
            "Epoch 17/30\n",
            "43/43 [==============================] - 0s 9ms/step - loss: 2.3211 - acc: 0.3202 - val_loss: 2.9563 - val_acc: 0.2937\n",
            "Epoch 18/30\n",
            "43/43 [==============================] - 0s 9ms/step - loss: 2.2169 - acc: 0.3592 - val_loss: 2.9529 - val_acc: 0.3036\n",
            "Epoch 19/30\n",
            "43/43 [==============================] - 0s 10ms/step - loss: 2.0943 - acc: 0.3765 - val_loss: 2.8163 - val_acc: 0.3003\n",
            "Epoch 20/30\n",
            "43/43 [==============================] - 0s 8ms/step - loss: 1.9880 - acc: 0.4022 - val_loss: 2.8218 - val_acc: 0.3432\n",
            "Epoch 21/30\n",
            "43/43 [==============================] - 0s 8ms/step - loss: 1.8985 - acc: 0.4162 - val_loss: 2.8036 - val_acc: 0.3597\n",
            "Epoch 22/30\n",
            "43/43 [==============================] - 0s 8ms/step - loss: 1.8241 - acc: 0.4437 - val_loss: 2.7413 - val_acc: 0.3531\n",
            "Epoch 23/30\n",
            "43/43 [==============================] - 0s 8ms/step - loss: 1.7131 - acc: 0.4445 - val_loss: 2.6701 - val_acc: 0.3993\n",
            "Epoch 24/30\n",
            "43/43 [==============================] - 0s 8ms/step - loss: 1.6403 - acc: 0.4702 - val_loss: 2.6911 - val_acc: 0.3828\n",
            "Epoch 25/30\n",
            "43/43 [==============================] - 0s 8ms/step - loss: 1.5734 - acc: 0.4974 - val_loss: 2.6239 - val_acc: 0.4389\n",
            "Epoch 26/30\n",
            "43/43 [==============================] - 0s 8ms/step - loss: 1.4609 - acc: 0.5254 - val_loss: 2.6895 - val_acc: 0.4224\n",
            "Epoch 27/30\n",
            "43/43 [==============================] - 0s 8ms/step - loss: 1.4068 - acc: 0.5257 - val_loss: 2.5720 - val_acc: 0.4257\n",
            "Epoch 28/30\n",
            "43/43 [==============================] - 0s 8ms/step - loss: 1.4156 - acc: 0.5228 - val_loss: 2.6236 - val_acc: 0.4191\n",
            "Epoch 29/30\n",
            "43/43 [==============================] - 0s 8ms/step - loss: 1.2902 - acc: 0.5607 - val_loss: 2.6096 - val_acc: 0.4191\n",
            "Epoch 30/30\n",
            "43/43 [==============================] - 0s 8ms/step - loss: 1.2473 - acc: 0.5662 - val_loss: 2.6176 - val_acc: 0.4290\n",
            "85/85 [==============================] - 0s 2ms/step\n",
            "10/10 [==============================] - 0s 3ms/step\n",
            "\n",
            "Training accuracy using sample CNN model: 0.6455882352941177\n",
            "Testing accuracy using sample CNN model: 0.429042904290429\n",
            "\n",
            "The sample CNN model beat the Eigenfaces and logistic regression model! :)\n",
            "Training accuracy using Eigenfaces and logistic regression model: 0.6106617647058824\n",
            "Testing accuracy using Eigenfaces and logistic regression model: 0.39933993399339934\n"
          ]
        }
      ],
      "source": [
        "# since the subjects have different numbers of images, \n",
        "# we need to balance how much each subject contributes to the cross-entropy loss\n",
        "class_weights = compute_class_weight(\"balanced\", classes = np.unique(train_y), y = train_y)\n",
        "class_weights_dict = dict(enumerate(class_weights))\n",
        "\n",
        "# train model\n",
        "sample_cnn.fit(train_x, train_y, validation_data=(test_x, test_y), \n",
        "               class_weight=class_weights_dict, \n",
        "               epochs=30, batch_size=64, verbose=1)\n",
        "\n",
        "# evaluate model, get train/test accuracy\n",
        "train_pred = np.argmax(sample_cnn.predict(train_x), axis=1)\n",
        "test_pred = np.argmax(sample_cnn.predict(test_x), axis=1)\n",
        "print(\"\\nTraining accuracy using sample CNN model: {}\".format(accuracy_score(train_y, train_pred)))\n",
        "print(\"Testing accuracy using sample CNN model: {}\\n\".format(accuracy_score(test_y, test_pred)))\n",
        "\n",
        "print(\"The sample CNN model beat the Eigenfaces and logistic regression model! :)\")\n",
        "print(\"Training accuracy using Eigenfaces and logistic regression model: {}\".format(accuracy_score(train_y, train_eig_pred)))\n",
        "print(\"Testing accuracy using Eigenfaces and logistic regression model: {}\".format(accuracy_score(test_y, test_eig_pred)))"
      ]
    },
    {
      "cell_type": "markdown",
      "metadata": {
        "id": "edHu2S15Ba89"
      },
      "source": [
        "## More tasks\n",
        "\n",
        "2. Build three CNN models which surpass the traditional Eigenface method test accuracy. In each model use different architectures and optimizers. Points will be not be awarded if models architectures are not sufficiently different \n",
        "3. Build a fourth CNN model which achieves >70% test accuracy \n",
        "4. Display a correctly identified image and a training image corresponding to the correct training subject \n",
        "5. Display a incorrectly identified image and a training image corresponding to the correct training subject "
      ]
    },
    {
      "cell_type": "markdown",
      "metadata": {
        "id": "HeAusGX1Ba89"
      },
      "source": [
        "### Rubric\n",
        "\n",
        "1. Complete the sample CNN as specified by the comments (2 pts.)\n",
        "2. Build three CNN models which surpass the traditional Eigenface method test accuracy. In each model use different architectures and optimizers. Points will be not be awarded if models architectures are not sufficiently different (3 pts.)\n",
        "3. Build a fourth CNN model which achieves >70% test accuracy (3 pts.)\n",
        "4. Display a correctly identified image and a training image corresponding to the correct training subject (1 pts.)\n",
        "5. Display a incorrectly identified image and a training image corresponding to the correct training subject (1 pts.)\n",
        "\n",
        "Feel free to use the code above to get started on your own models!"
      ]
    },
    {
      "cell_type": "code",
      "source": [
        "#2\n",
        "#model 1\n",
        "from sklearn.datasets import fetch_lfw_people\n",
        "import pandas as pd\n",
        "faces = fetch_lfw_people(min_faces_per_person=35)\n",
        "\n",
        "X = faces.images\n",
        "y = faces.target\n",
        "X = X.reshape(X.shape[0], X.shape[1], X.shape[2], 1)\n",
        "y = y.reshape(X.shape[0], 1)\n",
        "\n",
        "yy = pd.DataFrame(y)\n",
        "yy.columns = [\"Trgt\"]\n",
        "Y = pd.get_dummies(yy[\"Trgt\"], prefix='target')\n",
        "y=np.array(Y)\n",
        "\n",
        "numclass=y.shape[1]\n",
        "\n",
        "X_train, X_test, y_train, y_test = train_test_split(X, y, test_size=0.20, random_state=42)\n",
        "\n",
        "model = Sequential()\n",
        "model.add(Conv2D(32, kernel_size=(3, 3),activation='linear',padding='valid',input_shape=(62,47,1)))\n",
        "model.add(LeakyReLU(alpha=0.1))\n",
        "model.add(MaxPooling2D((2, 2),padding='valid'))\n",
        "model.add(Dropout(0.25))\n",
        "model.add(Conv2D(64, (3, 3), activation='linear',padding='valid'))\n",
        "model.add(LeakyReLU(alpha=0.1))\n",
        "model.add(MaxPooling2D(pool_size=(2, 2),padding='valid'))\n",
        "model.add(Dropout(0.25))\n",
        "model.add(Conv2D(128, (3, 3), activation='linear',padding='valid'))\n",
        "model.add(LeakyReLU(alpha=0.1))                  \n",
        "model.add(MaxPooling2D(pool_size=(2, 2),padding='valid'))\n",
        "model.add(Dropout(0.4))\n",
        "model.add(Flatten())\n",
        "model.add(Dense(128, activation='linear'))\n",
        "model.add(LeakyReLU(alpha=0.1))           \n",
        "model.add(Dropout(0.3))\n",
        "model.add(Dense(64, activation='linear'))\n",
        "model.add(LeakyReLU(alpha=0.1))           \n",
        "model.add(Dropout(0.3))\n",
        "model.add(Dense(numclass, activation='softmax'))\n",
        "\n",
        "model.compile(loss='categorical_crossentropy', optimizer='Adam', metrics=['accuracy'])\n",
        "\n",
        "callback = tf.keras.callbacks.EarlyStopping(monitor='loss', patience=10)\n",
        "H1 = model.fit(X_train, y_train, epochs=15, batch_size=100, verbose=1, validation_split=0.1,callbacks=[callback])\n",
        "\n",
        "_, accuracy = model.evaluate(X_test, y_test)\n",
        "print(\"The accuracy value of the model 1(surpassed the traditional Eigenface method test accuracy):\", accuracy)"
      ],
      "metadata": {
        "colab": {
          "base_uri": "https://localhost:8080/"
        },
        "id": "15NSk1LlOojY",
        "outputId": "dd7cc6aa-01f6-41da-ea0b-8cb1f1592336"
      },
      "execution_count": 49,
      "outputs": [
        {
          "output_type": "stream",
          "name": "stdout",
          "text": [
            "Epoch 1/15\n",
            "15/15 [==============================] - 3s 41ms/step - loss: 2.9721 - accuracy: 0.2106 - val_loss: 2.9171 - val_accuracy: 0.2848\n",
            "Epoch 2/15\n",
            "15/15 [==============================] - 0s 19ms/step - loss: 2.8775 - accuracy: 0.2451 - val_loss: 2.9141 - val_accuracy: 0.2848\n",
            "Epoch 3/15\n",
            "15/15 [==============================] - 0s 22ms/step - loss: 2.8497 - accuracy: 0.2471 - val_loss: 2.9160 - val_accuracy: 0.2848\n",
            "Epoch 4/15\n",
            "15/15 [==============================] - 0s 17ms/step - loss: 2.8395 - accuracy: 0.2512 - val_loss: 2.8455 - val_accuracy: 0.2848\n",
            "Epoch 5/15\n",
            "15/15 [==============================] - 0s 25ms/step - loss: 2.8206 - accuracy: 0.2519 - val_loss: 2.8271 - val_accuracy: 0.2848\n",
            "Epoch 6/15\n",
            "15/15 [==============================] - 0s 21ms/step - loss: 2.8160 - accuracy: 0.2546 - val_loss: 2.7870 - val_accuracy: 0.2848\n",
            "Epoch 7/15\n",
            "15/15 [==============================] - 0s 15ms/step - loss: 2.7958 - accuracy: 0.2498 - val_loss: 2.7946 - val_accuracy: 0.2848\n",
            "Epoch 8/15\n",
            "15/15 [==============================] - 0s 16ms/step - loss: 2.7238 - accuracy: 0.2532 - val_loss: 2.6399 - val_accuracy: 0.2848\n",
            "Epoch 9/15\n",
            "15/15 [==============================] - 0s 16ms/step - loss: 2.5655 - accuracy: 0.2932 - val_loss: 2.4331 - val_accuracy: 0.3333\n",
            "Epoch 10/15\n",
            "15/15 [==============================] - 0s 18ms/step - loss: 2.4196 - accuracy: 0.3114 - val_loss: 2.3684 - val_accuracy: 0.3273\n",
            "Epoch 11/15\n",
            "15/15 [==============================] - 0s 18ms/step - loss: 2.3031 - accuracy: 0.3378 - val_loss: 2.2344 - val_accuracy: 0.3576\n",
            "Epoch 12/15\n",
            "15/15 [==============================] - 0s 18ms/step - loss: 2.1574 - accuracy: 0.3778 - val_loss: 2.0930 - val_accuracy: 0.4303\n",
            "Epoch 13/15\n",
            "15/15 [==============================] - 0s 18ms/step - loss: 2.0454 - accuracy: 0.4292 - val_loss: 2.0105 - val_accuracy: 0.4545\n",
            "Epoch 14/15\n",
            "15/15 [==============================] - 0s 18ms/step - loss: 1.8856 - accuracy: 0.4739 - val_loss: 1.8424 - val_accuracy: 0.4970\n",
            "Epoch 15/15\n",
            "15/15 [==============================] - 0s 18ms/step - loss: 1.7687 - accuracy: 0.4956 - val_loss: 1.7389 - val_accuracy: 0.5394\n",
            "13/13 [==============================] - 0s 6ms/step - loss: 1.6074 - accuracy: 0.5596\n",
            "The accuracy value of the model 1(surpassed the traditional Eigenface method test accuracy): 0.5596107244491577\n"
          ]
        }
      ]
    },
    {
      "cell_type": "code",
      "source": [
        "#2\n",
        "#model 2\n",
        "import random\n",
        "from keras.utils import to_categorical\n",
        "faces=fetch_lfw_people(resize=0.40,min_faces_per_person=60,funneled=False)\n",
        "\n",
        "l=list(faces.keys())\n",
        "X=faces[l[0]]\n",
        "Y=faces[l[2]]\n",
        "target_name=faces[l[3]]\n",
        "\n",
        "_,W,H=faces[l[1]].shape\n",
        "features=X.shape[1]\n",
        "m=X.shape[0]\n",
        "classes=faces[l[3]].shape[0]\n",
        "\n",
        "print(\"Classes:\",classes)\n",
        "print(\"Dimension:\",(W,H))\n",
        "\n",
        "temp=list(zip(X,Y)) \n",
        "random.shuffle(temp) \n",
        "X,Y=zip(*temp)\n",
        "\n",
        "X=np.array(X)\n",
        "Y=np.array(Y)\n",
        "\n",
        "#split the data\n",
        "training_data_X,testing_data_X,training_data_Y,testing_data_Y=train_test_split(X,Y,test_size=0.20,random_state=42)\n",
        "\n",
        "#model 2\n",
        "model=Sequential()\n",
        "\n",
        "model.add(Conv2D(64,kernel_size=3,activation='relu',input_shape=(W,H,1)))\n",
        "model.add(MaxPooling2D((2,2),strides=(2,2)))\n",
        "model.add(Conv2D(128,kernel_size=3,activation='relu'))\n",
        "model.add(MaxPooling2D((2,2),strides=(2,2)))\n",
        "model.add(Conv2D(256,kernel_size=5,activation='relu'))\n",
        "model.add(MaxPooling2D((2,2),strides=(2,2)))\n",
        "model.add(Dropout(0.50))\n",
        "model.add(Flatten())\n",
        "model.add(Dense(classes,activation='softmax'))\n",
        "\n",
        "training_data_Y=to_categorical(training_data_Y)\n",
        "testing_data_Y=to_categorical(testing_data_Y)\n",
        "\n",
        "training_data_X=training_data_X.reshape(training_data_X.shape[0],W,H,1)\n",
        "testing_data_X=testing_data_X.reshape(testing_data_X.shape[0],W,H,1)\n",
        "\n",
        "model.compile(optimizer='Adam',loss='categorical_crossentropy',metrics=['accuracy'])\n",
        "model.fit(training_data_X,training_data_Y,validation_data=(testing_data_X,testing_data_Y),batch_size=100,epochs=10)\n",
        "\n",
        "_,accuracy=model.evaluate(testing_data_X,testing_data_Y,verbose=0)\n",
        "print(\"The accuracy value of the model 2(surpassed the traditional Eigenface method test accuracy): \", accuracy)"
      ],
      "metadata": {
        "colab": {
          "base_uri": "https://localhost:8080/"
        },
        "id": "hOE2ACj_RhK2",
        "outputId": "f59baf53-33ae-4e7a-d384-662a1c39e8ef"
      },
      "execution_count": 55,
      "outputs": [
        {
          "output_type": "stream",
          "name": "stdout",
          "text": [
            "Classes: 8\n",
            "Dimension: (50, 37)\n",
            "Epoch 1/10\n",
            "11/11 [==============================] - 3s 42ms/step - loss: 1.8996 - accuracy: 0.3367 - val_loss: 1.7744 - val_accuracy: 0.4185\n",
            "Epoch 2/10\n",
            "11/11 [==============================] - 0s 20ms/step - loss: 1.8326 - accuracy: 0.3859 - val_loss: 1.7791 - val_accuracy: 0.4185\n",
            "Epoch 3/10\n",
            "11/11 [==============================] - 0s 18ms/step - loss: 1.7990 - accuracy: 0.3868 - val_loss: 1.7463 - val_accuracy: 0.4185\n",
            "Epoch 4/10\n",
            "11/11 [==============================] - 0s 18ms/step - loss: 1.7966 - accuracy: 0.3859 - val_loss: 1.7270 - val_accuracy: 0.4185\n",
            "Epoch 5/10\n",
            "11/11 [==============================] - 0s 18ms/step - loss: 1.7514 - accuracy: 0.3868 - val_loss: 1.6640 - val_accuracy: 0.4185\n",
            "Epoch 6/10\n",
            "11/11 [==============================] - 0s 18ms/step - loss: 1.6854 - accuracy: 0.3924 - val_loss: 1.5969 - val_accuracy: 0.4519\n",
            "Epoch 7/10\n",
            "11/11 [==============================] - 0s 17ms/step - loss: 1.5954 - accuracy: 0.4443 - val_loss: 1.4718 - val_accuracy: 0.5222\n",
            "Epoch 8/10\n",
            "11/11 [==============================] - 0s 18ms/step - loss: 1.4817 - accuracy: 0.4935 - val_loss: 1.3317 - val_accuracy: 0.5630\n",
            "Epoch 9/10\n",
            "11/11 [==============================] - 0s 18ms/step - loss: 1.3428 - accuracy: 0.5473 - val_loss: 1.1884 - val_accuracy: 0.6370\n",
            "Epoch 10/10\n",
            "11/11 [==============================] - 0s 18ms/step - loss: 1.1819 - accuracy: 0.6039 - val_loss: 1.0307 - val_accuracy: 0.7000\n",
            "The accuracy value of the model 2(surpassed the traditional Eigenface method test accuracy):  0.699999988079071\n"
          ]
        }
      ]
    },
    {
      "cell_type": "code",
      "source": [
        "#2\n",
        "#model 3\n",
        "from sklearn.datasets import fetch_lfw_people\n",
        "import pandas as pd\n",
        "faces = fetch_lfw_people(min_faces_per_person=35)\n",
        "\n",
        "X = faces.images\n",
        "y = faces.target\n",
        "X = X.reshape(X.shape[0], X.shape[1], X.shape[2], 1)\n",
        "y = y.reshape(X.shape[0], 1)\n",
        "\n",
        "yy = pd.DataFrame(y)\n",
        "yy.columns = [\"Trgt\"]\n",
        "Y = pd.get_dummies(yy[\"Trgt\"], prefix='target')\n",
        "y=np.array(Y)\n",
        "\n",
        "numclass=y.shape[1]\n",
        "\n",
        "X_train, X_test, y_train, y_test = train_test_split(X, y, test_size=0.40, random_state=25)\n",
        "\n",
        "model = Sequential()\n",
        "model.add(Conv2D(24, kernel_size=(3, 3),activation='LeakyReLU',input_shape=(62,47,1)))\n",
        "model.add(MaxPooling2D((2, 2),padding='valid'))\n",
        "model.add(Conv2D(32, (3, 3), activation='LeakyReLU'))\n",
        "model.add(MaxPooling2D(pool_size=(2, 2),padding='valid'))\n",
        "model.add(Dropout(0.25))\n",
        "model.add(Conv2D(64, (3, 3), activation='LeakyReLU'))                \n",
        "model.add(MaxPooling2D(pool_size=(2, 2),padding='valid'))\n",
        "model.add(Dropout(0.3))\n",
        "model.add(Flatten())\n",
        "model.add(Dense(128, activation='LeakyReLU'))        \n",
        "model.add(Dropout(0.25))\n",
        "model.add(Dense(64, activation='LeakyReLU'))         \n",
        "model.add(Dropout(0.5))\n",
        "model.add(Dense(numclass, activation='softmax'))\n",
        "\n",
        "model.compile(loss='categorical_crossentropy', optimizer='Adam', metrics=['accuracy'])\n",
        "\n",
        "callback = tf.keras.callbacks.EarlyStopping(monitor='loss', patience=10)\n",
        "H1 = model.fit(X_train, y_train, epochs=40, batch_size=128, verbose=1, validation_split=0.1,callbacks=[callback])\n",
        "\n",
        "_, accuracy = model.evaluate(X_test, y_test)\n",
        "print(\"The accuracy value of the model 3(surpassed the traditional Eigenface method test accuracy):\", accuracy)"
      ],
      "metadata": {
        "colab": {
          "base_uri": "https://localhost:8080/"
        },
        "id": "eNHJ0IjlaneD",
        "outputId": "64442d71-15c0-4eda-eeab-9ba140f66b4b"
      },
      "execution_count": 53,
      "outputs": [
        {
          "output_type": "stream",
          "name": "stdout",
          "text": [
            "Epoch 1/40\n",
            "9/9 [==============================] - 2s 64ms/step - loss: 3.0303 - accuracy: 0.1915 - val_loss: 2.8856 - val_accuracy: 0.2823\n",
            "Epoch 2/40\n",
            "9/9 [==============================] - 0s 15ms/step - loss: 2.9146 - accuracy: 0.2403 - val_loss: 2.7572 - val_accuracy: 0.2823\n",
            "Epoch 3/40\n",
            "9/9 [==============================] - 0s 15ms/step - loss: 2.8727 - accuracy: 0.2511 - val_loss: 2.8291 - val_accuracy: 0.2823\n",
            "Epoch 4/40\n",
            "9/9 [==============================] - 0s 14ms/step - loss: 2.8424 - accuracy: 0.2502 - val_loss: 2.8273 - val_accuracy: 0.2823\n",
            "Epoch 5/40\n",
            "9/9 [==============================] - 0s 14ms/step - loss: 2.8447 - accuracy: 0.2457 - val_loss: 2.8405 - val_accuracy: 0.2823\n",
            "Epoch 6/40\n",
            "9/9 [==============================] - 0s 14ms/step - loss: 2.8405 - accuracy: 0.2448 - val_loss: 2.8296 - val_accuracy: 0.2823\n",
            "Epoch 7/40\n",
            "9/9 [==============================] - 0s 13ms/step - loss: 2.8228 - accuracy: 0.2502 - val_loss: 2.7189 - val_accuracy: 0.2823\n",
            "Epoch 8/40\n",
            "9/9 [==============================] - 0s 14ms/step - loss: 2.7637 - accuracy: 0.2520 - val_loss: 2.6720 - val_accuracy: 0.2823\n",
            "Epoch 9/40\n",
            "9/9 [==============================] - 0s 16ms/step - loss: 2.7176 - accuracy: 0.2575 - val_loss: 2.6134 - val_accuracy: 0.2903\n",
            "Epoch 10/40\n",
            "9/9 [==============================] - 0s 15ms/step - loss: 2.6372 - accuracy: 0.2683 - val_loss: 2.4474 - val_accuracy: 0.3065\n",
            "Epoch 11/40\n",
            "9/9 [==============================] - 0s 14ms/step - loss: 2.5437 - accuracy: 0.3062 - val_loss: 2.3753 - val_accuracy: 0.3145\n",
            "Epoch 12/40\n",
            "9/9 [==============================] - 0s 14ms/step - loss: 2.4219 - accuracy: 0.3216 - val_loss: 2.1948 - val_accuracy: 0.3790\n",
            "Epoch 13/40\n",
            "9/9 [==============================] - 0s 13ms/step - loss: 2.2639 - accuracy: 0.3686 - val_loss: 2.0639 - val_accuracy: 0.4274\n",
            "Epoch 14/40\n",
            "9/9 [==============================] - 0s 14ms/step - loss: 2.1739 - accuracy: 0.3939 - val_loss: 1.9839 - val_accuracy: 0.5081\n",
            "Epoch 15/40\n",
            "9/9 [==============================] - 0s 16ms/step - loss: 2.0848 - accuracy: 0.4119 - val_loss: 1.8497 - val_accuracy: 0.5242\n",
            "Epoch 16/40\n",
            "9/9 [==============================] - 0s 14ms/step - loss: 1.9512 - accuracy: 0.4363 - val_loss: 1.8192 - val_accuracy: 0.5000\n",
            "Epoch 17/40\n",
            "9/9 [==============================] - 0s 14ms/step - loss: 1.9216 - accuracy: 0.4481 - val_loss: 1.6824 - val_accuracy: 0.6129\n",
            "Epoch 18/40\n",
            "9/9 [==============================] - 0s 15ms/step - loss: 1.7879 - accuracy: 0.5149 - val_loss: 1.4814 - val_accuracy: 0.6452\n",
            "Epoch 19/40\n",
            "9/9 [==============================] - 0s 14ms/step - loss: 1.6705 - accuracy: 0.5456 - val_loss: 1.4020 - val_accuracy: 0.6532\n",
            "Epoch 20/40\n",
            "9/9 [==============================] - 0s 14ms/step - loss: 1.5176 - accuracy: 0.5682 - val_loss: 1.3466 - val_accuracy: 0.6532\n",
            "Epoch 21/40\n",
            "9/9 [==============================] - 0s 14ms/step - loss: 1.5092 - accuracy: 0.5655 - val_loss: 1.2716 - val_accuracy: 0.7097\n",
            "Epoch 22/40\n",
            "9/9 [==============================] - 0s 14ms/step - loss: 1.4578 - accuracy: 0.5845 - val_loss: 1.2051 - val_accuracy: 0.7097\n",
            "Epoch 23/40\n",
            "9/9 [==============================] - 0s 14ms/step - loss: 1.4133 - accuracy: 0.5854 - val_loss: 1.1321 - val_accuracy: 0.7419\n",
            "Epoch 24/40\n",
            "9/9 [==============================] - 0s 14ms/step - loss: 1.3312 - accuracy: 0.6116 - val_loss: 1.1192 - val_accuracy: 0.7177\n",
            "Epoch 25/40\n",
            "9/9 [==============================] - 0s 15ms/step - loss: 1.2179 - accuracy: 0.6414 - val_loss: 1.0839 - val_accuracy: 0.7500\n",
            "Epoch 26/40\n",
            "9/9 [==============================] - 0s 14ms/step - loss: 1.2439 - accuracy: 0.6459 - val_loss: 1.0705 - val_accuracy: 0.7258\n",
            "Epoch 27/40\n",
            "9/9 [==============================] - 0s 14ms/step - loss: 1.1466 - accuracy: 0.6504 - val_loss: 1.0237 - val_accuracy: 0.7258\n",
            "Epoch 28/40\n",
            "9/9 [==============================] - 0s 14ms/step - loss: 1.0633 - accuracy: 0.6902 - val_loss: 1.0064 - val_accuracy: 0.7581\n",
            "Epoch 29/40\n",
            "9/9 [==============================] - 0s 15ms/step - loss: 1.0586 - accuracy: 0.6883 - val_loss: 0.9733 - val_accuracy: 0.7500\n",
            "Epoch 30/40\n",
            "9/9 [==============================] - 0s 14ms/step - loss: 0.9644 - accuracy: 0.7209 - val_loss: 0.9420 - val_accuracy: 0.7661\n",
            "Epoch 31/40\n",
            "9/9 [==============================] - 0s 14ms/step - loss: 0.9809 - accuracy: 0.7118 - val_loss: 0.8966 - val_accuracy: 0.7903\n",
            "Epoch 32/40\n",
            "9/9 [==============================] - 0s 14ms/step - loss: 0.9016 - accuracy: 0.7416 - val_loss: 0.9584 - val_accuracy: 0.7984\n",
            "Epoch 33/40\n",
            "9/9 [==============================] - 0s 14ms/step - loss: 0.8430 - accuracy: 0.7471 - val_loss: 0.8619 - val_accuracy: 0.7984\n",
            "Epoch 34/40\n",
            "9/9 [==============================] - 0s 15ms/step - loss: 0.8168 - accuracy: 0.7543 - val_loss: 0.8575 - val_accuracy: 0.8145\n",
            "Epoch 35/40\n",
            "9/9 [==============================] - 0s 14ms/step - loss: 0.7842 - accuracy: 0.7561 - val_loss: 0.8442 - val_accuracy: 0.7903\n",
            "Epoch 36/40\n",
            "9/9 [==============================] - 0s 17ms/step - loss: 0.7847 - accuracy: 0.7687 - val_loss: 0.8145 - val_accuracy: 0.7984\n",
            "Epoch 37/40\n",
            "9/9 [==============================] - 0s 18ms/step - loss: 0.6968 - accuracy: 0.7841 - val_loss: 0.7680 - val_accuracy: 0.8226\n",
            "Epoch 38/40\n",
            "9/9 [==============================] - 0s 18ms/step - loss: 0.7303 - accuracy: 0.7778 - val_loss: 0.7879 - val_accuracy: 0.8065\n",
            "Epoch 39/40\n",
            "9/9 [==============================] - 0s 17ms/step - loss: 0.6869 - accuracy: 0.7931 - val_loss: 0.7966 - val_accuracy: 0.8145\n",
            "Epoch 40/40\n",
            "9/9 [==============================] - 0s 16ms/step - loss: 0.6238 - accuracy: 0.8166 - val_loss: 0.7613 - val_accuracy: 0.8145\n",
            "26/26 [==============================] - 0s 6ms/step - loss: 0.8451 - accuracy: 0.7640\n",
            "The accuracy value of the model 3(surpassed the traditional Eigenface method test accuracy): 0.7639902830123901\n"
          ]
        }
      ]
    },
    {
      "cell_type": "code",
      "source": [
        "#3\n",
        "faces=fetch_lfw_people(resize=0.40,min_faces_per_person=60,funneled=False)\n",
        "\n",
        "l=list(faces.keys())\n",
        "X=faces[l[0]]\n",
        "Y=faces[l[2]]\n",
        "target_name=faces[l[3]]\n",
        "\n",
        "_,W,H=faces[l[1]].shape\n",
        "features=X.shape[1]\n",
        "m=X.shape[0]\n",
        "classes=faces[l[3]].shape[0]\n",
        "\n",
        "temp=list(zip(X,Y)) \n",
        "random.shuffle(temp) \n",
        "X,Y=zip(*temp)\n",
        "X=np.array(X)\n",
        "Y=np.array(Y)\n",
        "training_data_X,testing_data_X,training_data_Y,testing_data_Y=train_test_split(X,Y,test_size=0.20,random_state=42)\n",
        "\n",
        "#model 4\n",
        "model=Sequential()\n",
        "\n",
        "model.add(Conv2D(64,kernel_size=3,activation='LeakyReLU',input_shape=(W,H,1)))\n",
        "model.add(MaxPooling2D((2,2),strides=(2,2)))\n",
        "model.add(Dropout(0.25))\n",
        "model.add(Conv2D(128,kernel_size=3,activation='LeakyReLU'))\n",
        "model.add(MaxPooling2D((2,2),strides=(2,2)))\n",
        "model.add(Dropout(0.30))\n",
        "model.add(Conv2D(256,kernel_size=5,activation='LeakyReLU'))\n",
        "model.add(MaxPooling2D((2,2),strides=(2,2)))\n",
        "model.add(Dropout(0.50))\n",
        "model.add(Flatten())\n",
        "model.add(Dense(classes,activation='softmax'))\n",
        "\n",
        "training_data_Y=to_categorical(training_data_Y)\n",
        "testing_data_Y=to_categorical(testing_data_Y)\n",
        "\n",
        "training_data_X=training_data_X.reshape(training_data_X.shape[0],W,H,1)\n",
        "testing_data_X=testing_data_X.reshape(testing_data_X.shape[0],W,H,1)\n",
        "\n",
        "model.compile(optimizer='RMSProp',loss='categorical_crossentropy',metrics=['accuracy'])\n",
        "model.fit(training_data_X,training_data_Y,validation_data=(testing_data_X,testing_data_Y),batch_size=100,epochs=25)\n",
        "\n",
        "_,accuracy=model.evaluate(testing_data_X,testing_data_Y,verbose=0)\n",
        "print(\"The accuracy value of the model 4(>70%): \", accuracy)\n",
        "\n",
        "predicted_probabilities = model.predict(testing_data_X)\n",
        "predicted_classes = np.argmax(predicted_probabilities, axis=1)\n",
        "\n",
        "predicted_classes = np.argmax(model.predict(testing_data_X), axis=-1)\n",
        "#4\n",
        "correct_index = np.nonzero(predicted_classes == np.argmax(testing_data_Y, axis=-1))[0][0]\n",
        "plt.imshow(testing_data_X[correct_index].reshape(W, H), cmap='gray')\n",
        "plt.title(\"Correctly Classified Image\")\n",
        "plt.show()\n",
        "print(\"Predicted Class:\", predicted_classes[correct_index])\n",
        "print(\"Actual Class:\", np.argmax(testing_data_Y[correct_index]))\n",
        "#5\n",
        "incorrect_index = np.nonzero(predicted_classes != np.argmax(testing_data_Y, axis=-1))[0][0]\n",
        "plt.imshow(testing_data_X[incorrect_index].reshape(W, H), cmap='gray')\n",
        "plt.title(\"Incorrectly Classified Image\")\n",
        "plt.show()\n",
        "print(\"Predicted Class:\",  predicted_classes[incorrect_index])\n",
        "print(\"Actual Class:\", np.argmax(testing_data_Y[incorrect_index]))\n"
      ],
      "metadata": {
        "id": "btwvhZ8ZjUKn",
        "colab": {
          "base_uri": "https://localhost:8080/",
          "height": 1000
        },
        "outputId": "353ead90-4193-476d-bbe3-ef97fdb9d309"
      },
      "execution_count": 52,
      "outputs": [
        {
          "output_type": "stream",
          "name": "stdout",
          "text": [
            "Epoch 1/25\n",
            "11/11 [==============================] - 2s 42ms/step - loss: 2.1384 - accuracy: 0.3330 - val_loss: 1.8673 - val_accuracy: 0.4111\n",
            "Epoch 2/25\n",
            "11/11 [==============================] - 0s 23ms/step - loss: 1.8270 - accuracy: 0.3878 - val_loss: 1.7476 - val_accuracy: 0.4111\n",
            "Epoch 3/25\n",
            "11/11 [==============================] - 0s 20ms/step - loss: 1.8498 - accuracy: 0.3794 - val_loss: 1.9251 - val_accuracy: 0.4111\n",
            "Epoch 4/25\n",
            "11/11 [==============================] - 0s 21ms/step - loss: 1.8099 - accuracy: 0.3887 - val_loss: 1.7352 - val_accuracy: 0.4111\n",
            "Epoch 5/25\n",
            "11/11 [==============================] - 0s 20ms/step - loss: 1.8137 - accuracy: 0.3933 - val_loss: 1.7323 - val_accuracy: 0.4111\n",
            "Epoch 6/25\n",
            "11/11 [==============================] - 0s 20ms/step - loss: 1.7429 - accuracy: 0.3989 - val_loss: 1.6551 - val_accuracy: 0.4111\n",
            "Epoch 7/25\n",
            "11/11 [==============================] - 0s 22ms/step - loss: 1.6556 - accuracy: 0.4045 - val_loss: 1.4834 - val_accuracy: 0.4259\n",
            "Epoch 8/25\n",
            "11/11 [==============================] - 0s 23ms/step - loss: 1.5278 - accuracy: 0.4620 - val_loss: 1.4237 - val_accuracy: 0.5963\n",
            "Epoch 9/25\n",
            "11/11 [==============================] - 0s 23ms/step - loss: 1.3840 - accuracy: 0.5195 - val_loss: 1.1759 - val_accuracy: 0.6000\n",
            "Epoch 10/25\n",
            "11/11 [==============================] - 0s 21ms/step - loss: 1.1890 - accuracy: 0.5993 - val_loss: 1.0459 - val_accuracy: 0.6704\n",
            "Epoch 11/25\n",
            "11/11 [==============================] - 0s 22ms/step - loss: 1.0682 - accuracy: 0.6391 - val_loss: 0.8792 - val_accuracy: 0.7037\n",
            "Epoch 12/25\n",
            "11/11 [==============================] - 0s 24ms/step - loss: 0.9395 - accuracy: 0.6818 - val_loss: 0.8742 - val_accuracy: 0.7037\n",
            "Epoch 13/25\n",
            "11/11 [==============================] - 0s 23ms/step - loss: 0.8567 - accuracy: 0.7106 - val_loss: 0.6683 - val_accuracy: 0.7481\n",
            "Epoch 14/25\n",
            "11/11 [==============================] - 0s 24ms/step - loss: 0.6954 - accuracy: 0.7662 - val_loss: 0.6297 - val_accuracy: 0.8111\n",
            "Epoch 15/25\n",
            "11/11 [==============================] - 0s 23ms/step - loss: 0.6540 - accuracy: 0.7894 - val_loss: 0.5251 - val_accuracy: 0.8333\n",
            "Epoch 16/25\n",
            "11/11 [==============================] - 0s 24ms/step - loss: 0.5582 - accuracy: 0.8098 - val_loss: 0.5465 - val_accuracy: 0.8148\n",
            "Epoch 17/25\n",
            "11/11 [==============================] - 0s 21ms/step - loss: 0.5130 - accuracy: 0.8340 - val_loss: 0.4793 - val_accuracy: 0.8370\n",
            "Epoch 18/25\n",
            "11/11 [==============================] - 0s 20ms/step - loss: 0.4813 - accuracy: 0.8367 - val_loss: 0.4180 - val_accuracy: 0.8444\n",
            "Epoch 19/25\n",
            "11/11 [==============================] - 0s 20ms/step - loss: 0.4035 - accuracy: 0.8729 - val_loss: 0.3979 - val_accuracy: 0.8704\n",
            "Epoch 20/25\n",
            "11/11 [==============================] - 0s 21ms/step - loss: 0.3701 - accuracy: 0.8822 - val_loss: 0.3611 - val_accuracy: 0.8926\n",
            "Epoch 21/25\n",
            "11/11 [==============================] - 0s 20ms/step - loss: 0.3050 - accuracy: 0.9017 - val_loss: 0.3437 - val_accuracy: 0.8852\n",
            "Epoch 22/25\n",
            "11/11 [==============================] - 0s 20ms/step - loss: 0.3294 - accuracy: 0.8868 - val_loss: 0.3802 - val_accuracy: 0.8778\n",
            "Epoch 23/25\n",
            "11/11 [==============================] - 0s 20ms/step - loss: 0.2741 - accuracy: 0.9128 - val_loss: 0.3662 - val_accuracy: 0.8667\n",
            "Epoch 24/25\n",
            "11/11 [==============================] - 0s 20ms/step - loss: 0.2464 - accuracy: 0.9249 - val_loss: 0.4219 - val_accuracy: 0.8556\n",
            "Epoch 25/25\n",
            "11/11 [==============================] - 0s 21ms/step - loss: 0.1947 - accuracy: 0.9434 - val_loss: 0.3457 - val_accuracy: 0.8889\n",
            "The accuracy value of the model 4(>70%):  0.8888888955116272\n",
            "9/9 [==============================] - 0s 4ms/step\n",
            "9/9 [==============================] - 0s 3ms/step\n"
          ]
        },
        {
          "output_type": "display_data",
          "data": {
            "text/plain": [
              "<Figure size 432x288 with 1 Axes>"
            ],
            "image/png": "[encoded data removed]"
          },
          "metadata": {
            "needs_background": "light"
          }
        },
        {
          "output_type": "stream",
          "name": "stdout",
          "text": [
            "Predicted Class: 1\n",
            "Actual Class: 1\n"
          ]
        },
        {
          "output_type": "display_data",
          "data": {
            "text/plain": [
              "<Figure size 432x288 with 1 Axes>"
            ],
            "image/png": "[encoded data removed]"
          },
          "metadata": {
            "needs_background": "light"
          }
        },
        {
          "output_type": "stream",
          "name": "stdout",
          "text": [
            "Predicted Class: 1\n",
            "Actual Class: 6\n"
          ]
        }
      ]
    },
    {
      "cell_type": "code",
      "source": [],
      "metadata": {
        "id": "619aljPhzgsP"
      },
      "execution_count": null,
      "outputs": []
    }
  ],
  "metadata": {
    "kernelspec": {
      "display_name": "Python 3",
      "language": "python",
      "name": "python3"
    },
    "language_info": {
      "codemirror_mode": {
        "name": "ipython",
        "version": 3
      },
      "file_extension": ".py",
      "mimetype": "text/x-python",
      "name": "python",
      "nbconvert_exporter": "python",
      "pygments_lexer": "ipython3",
      "version": "3.7.6"
    },
    "colab": {
      "provenance": []
    },
    "accelerator": "GPU",
    "gpuClass": "standard"
  },
  "nbformat": 4,
  "nbformat_minor": 0
}