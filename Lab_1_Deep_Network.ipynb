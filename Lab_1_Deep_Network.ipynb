{
  "cells": [
    {
      "cell_type": "markdown",
      "metadata": {
        "id": "nIYooSr69bVy"
      },
      "source": [
        "## Problem 1:\n",
        "\n",
        "### Approximate the following function:\n",
        "$\\Large f ( x ) = 3x^2 + 4x - 9 $\n"
      ]
    },
    {
      "cell_type": "markdown",
      "metadata": {
        "id": "vz_hnnaY9bV1"
      },
      "source": [
        "### Steps:\n",
        "1. Randomly generate the data. Generate at least 10,000 values for $x \\in [-100,100]$\n",
        "2. Plot the function\n",
        "3. Design a feed-forward network with 2 or more hidden layers. Choose the # of hidden units in each layer (what are the size of input and output layers?)\n",
        "4. Train the model (What loss function will be suitable here?)\n",
        "5. Generate a test data and present the test accuracy"
      ]
    },
    {
      "cell_type": "code",
      "source": [
        "import numpy as np\n",
        "import matplotlib.pyplot as plt\n",
        "from keras.models import Sequential\n",
        "from keras.layers import Dense\n",
        "from sklearn.model_selection import train_test_split\n",
        "\n",
        "x = np.random.uniform(low=-100, high=100, size=10000)\n",
        "y = 3*x**2 + 4*x - 9\n",
        "\n",
        "plt.plot(x, y)\n",
        "plt.title('Function Plot')\n",
        "plt.xlabel('x')\n",
        "plt.ylabel('y')\n",
        "plt.show()\n",
        "\n",
        "model = Sequential()\n",
        "model.add(Dense(32, input_shape=(1,), activation='relu'))\n",
        "model.add(Dense(16, activation='relu'))\n",
        "model.add(Dense(8, activation='relu'))\n",
        "model.add(Dense(1, activation=None))\n",
        "\n",
        "model.compile(loss='mean_squared_error', optimizer='adam')\n",
        "\n",
        "x_train, x_test, y_train, y_test = train_test_split(x, y, test_size=0.2, random_state=42)\n",
        "\n",
        "history = model.fit(x_train, y_train, batch_size=32, epochs=100, validation_data=(x_test, y_test))\n",
        "\n",
        "test_loss = model.evaluate(x_test, y_test)\n",
        "print(\"Test loss:\", test_loss)\n",
        "\n",
        "plt.plot(history.history['loss'])\n",
        "plt.plot(history.history['val_loss'])\n",
        "plt.title('Model Loss')\n",
        "plt.ylabel('loss')\n",
        "plt.xlabel('epoch')\n",
        "plt.legend(['train', 'test'], loc='upper right')\n",
        "plt.show()\n"
      ],
      "metadata": {
        "colab": {
          "base_uri": "https://localhost:8080/",
          "height": 1000
        },
        "id": "KW18v9WCEc3o",
        "outputId": "eb6022ee-362c-49a9-bb68-43b56e87e797"
      },
      "execution_count": 2,
      "outputs": [
        {
          "output_type": "display_data",
          "data": {
            "text/plain": [
              "<Figure size 432x288 with 1 Axes>"
            ],
            "image/png": "[encoded data removed]"
          },
          "metadata": {
            "needs_background": "light"
          }
        },
        {
          "output_type": "stream",
          "name": "stdout",
          "text": [
            "Epoch 1/100\n",
            "250/250 [==============================] - 1s 3ms/step - loss: 166046928.0000 - val_loss: 117220464.0000\n",
            "Epoch 2/100\n",
            "250/250 [==============================] - 1s 2ms/step - loss: 38784068.0000 - val_loss: 11926478.0000\n",
            "Epoch 3/100\n",
            "250/250 [==============================] - 1s 2ms/step - loss: 11722007.0000 - val_loss: 11637800.0000\n",
            "Epoch 4/100\n",
            "250/250 [==============================] - 1s 2ms/step - loss: 11564682.0000 - val_loss: 11521686.0000\n",
            "Epoch 5/100\n",
            "250/250 [==============================] - 1s 3ms/step - loss: 11420213.0000 - val_loss: 11367980.0000\n",
            "Epoch 6/100\n",
            "250/250 [==============================] - 1s 4ms/step - loss: 11270786.0000 - val_loss: 11202936.0000\n",
            "Epoch 7/100\n",
            "250/250 [==============================] - 1s 4ms/step - loss: 11108810.0000 - val_loss: 11059511.0000\n",
            "Epoch 8/100\n",
            "250/250 [==============================] - 1s 3ms/step - loss: 10962633.0000 - val_loss: 10893793.0000\n",
            "Epoch 9/100\n",
            "250/250 [==============================] - 1s 2ms/step - loss: 10808095.0000 - val_loss: 10757872.0000\n",
            "Epoch 10/100\n",
            "250/250 [==============================] - 1s 2ms/step - loss: 10669689.0000 - val_loss: 10609316.0000\n",
            "Epoch 11/100\n",
            "250/250 [==============================] - 1s 2ms/step - loss: 10487405.0000 - val_loss: 10490341.0000\n",
            "Epoch 12/100\n",
            "250/250 [==============================] - 1s 3ms/step - loss: 10343838.0000 - val_loss: 10314861.0000\n",
            "Epoch 13/100\n",
            "250/250 [==============================] - 1s 2ms/step - loss: 10169863.0000 - val_loss: 10106494.0000\n",
            "Epoch 14/100\n",
            "250/250 [==============================] - 1s 3ms/step - loss: 9999653.0000 - val_loss: 9961223.0000\n",
            "Epoch 15/100\n",
            "250/250 [==============================] - 1s 3ms/step - loss: 9822346.0000 - val_loss: 9780690.0000\n",
            "Epoch 16/100\n",
            "250/250 [==============================] - 1s 3ms/step - loss: 9621125.0000 - val_loss: 9685979.0000\n",
            "Epoch 17/100\n",
            "250/250 [==============================] - 1s 2ms/step - loss: 9440863.0000 - val_loss: 9438999.0000\n",
            "Epoch 18/100\n",
            "250/250 [==============================] - 1s 3ms/step - loss: 9244638.0000 - val_loss: 9185332.0000\n",
            "Epoch 19/100\n",
            "250/250 [==============================] - 1s 2ms/step - loss: 9027553.0000 - val_loss: 8985249.0000\n",
            "Epoch 20/100\n",
            "250/250 [==============================] - 1s 3ms/step - loss: 8814967.0000 - val_loss: 8752212.0000\n",
            "Epoch 21/100\n",
            "250/250 [==============================] - 1s 3ms/step - loss: 8574160.0000 - val_loss: 8541667.0000\n",
            "Epoch 22/100\n",
            "250/250 [==============================] - 1s 3ms/step - loss: 8321910.5000 - val_loss: 8450711.0000\n",
            "Epoch 23/100\n",
            "250/250 [==============================] - 1s 3ms/step - loss: 8053174.0000 - val_loss: 8038286.0000\n",
            "Epoch 24/100\n",
            "250/250 [==============================] - 1s 3ms/step - loss: 7773686.5000 - val_loss: 7709165.5000\n",
            "Epoch 25/100\n",
            "250/250 [==============================] - 1s 4ms/step - loss: 7471113.0000 - val_loss: 7401617.0000\n",
            "Epoch 26/100\n",
            "250/250 [==============================] - 1s 4ms/step - loss: 7128588.5000 - val_loss: 7126471.5000\n",
            "Epoch 27/100\n",
            "250/250 [==============================] - 1s 3ms/step - loss: 6762129.5000 - val_loss: 6674949.0000\n",
            "Epoch 28/100\n",
            "250/250 [==============================] - 1s 2ms/step - loss: 6362222.5000 - val_loss: 6251953.0000\n",
            "Epoch 29/100\n",
            "250/250 [==============================] - 1s 3ms/step - loss: 5922873.5000 - val_loss: 5849344.5000\n",
            "Epoch 30/100\n",
            "250/250 [==============================] - 1s 3ms/step - loss: 5422440.5000 - val_loss: 5274408.5000\n",
            "Epoch 31/100\n",
            "250/250 [==============================] - 1s 2ms/step - loss: 4881520.0000 - val_loss: 4731705.5000\n",
            "Epoch 32/100\n",
            "250/250 [==============================] - 1s 2ms/step - loss: 4321582.0000 - val_loss: 4166428.5000\n",
            "Epoch 33/100\n",
            "250/250 [==============================] - 1s 3ms/step - loss: 3716451.2500 - val_loss: 3539770.2500\n",
            "Epoch 34/100\n",
            "250/250 [==============================] - 1s 2ms/step - loss: 3126797.2500 - val_loss: 2941249.0000\n",
            "Epoch 35/100\n",
            "250/250 [==============================] - 1s 3ms/step - loss: 2546368.5000 - val_loss: 2391683.7500\n",
            "Epoch 36/100\n",
            "250/250 [==============================] - 1s 2ms/step - loss: 2062539.8750 - val_loss: 1917523.8750\n",
            "Epoch 37/100\n",
            "250/250 [==============================] - 1s 3ms/step - loss: 1624805.0000 - val_loss: 1505503.3750\n",
            "Epoch 38/100\n",
            "250/250 [==============================] - 1s 2ms/step - loss: 1262454.3750 - val_loss: 1145133.0000\n",
            "Epoch 39/100\n",
            "250/250 [==============================] - 1s 2ms/step - loss: 978787.0000 - val_loss: 893230.1875\n",
            "Epoch 40/100\n",
            "250/250 [==============================] - 1s 2ms/step - loss: 754540.9375 - val_loss: 685015.1250\n",
            "Epoch 41/100\n",
            "250/250 [==============================] - 1s 2ms/step - loss: 592202.8125 - val_loss: 537505.8750\n",
            "Epoch 42/100\n",
            "250/250 [==============================] - 1s 3ms/step - loss: 472888.0625 - val_loss: 446269.7812\n",
            "Epoch 43/100\n",
            "250/250 [==============================] - 1s 3ms/step - loss: 386963.1250 - val_loss: 357559.5625\n",
            "Epoch 44/100\n",
            "250/250 [==============================] - 1s 4ms/step - loss: 322611.7500 - val_loss: 300379.6562\n",
            "Epoch 45/100\n",
            "250/250 [==============================] - 1s 4ms/step - loss: 274939.7188 - val_loss: 252056.6406\n",
            "Epoch 46/100\n",
            "250/250 [==============================] - 1s 4ms/step - loss: 234483.8438 - val_loss: 216882.8594\n",
            "Epoch 47/100\n",
            "250/250 [==============================] - 1s 2ms/step - loss: 200770.9844 - val_loss: 192219.9062\n",
            "Epoch 48/100\n",
            "250/250 [==============================] - 1s 2ms/step - loss: 174321.7500 - val_loss: 158548.4219\n",
            "Epoch 49/100\n",
            "250/250 [==============================] - 1s 2ms/step - loss: 149410.6094 - val_loss: 165331.8594\n",
            "Epoch 50/100\n",
            "250/250 [==============================] - 1s 3ms/step - loss: 135108.5938 - val_loss: 126455.9297\n",
            "Epoch 51/100\n",
            "250/250 [==============================] - 1s 3ms/step - loss: 122435.0625 - val_loss: 116226.0703\n",
            "Epoch 52/100\n",
            "250/250 [==============================] - 1s 3ms/step - loss: 112316.4297 - val_loss: 107872.7578\n",
            "Epoch 53/100\n",
            "250/250 [==============================] - 1s 3ms/step - loss: 104112.4375 - val_loss: 100657.5391\n",
            "Epoch 54/100\n",
            "250/250 [==============================] - 1s 2ms/step - loss: 98769.9141 - val_loss: 99272.9531\n",
            "Epoch 55/100\n",
            "250/250 [==============================] - 1s 2ms/step - loss: 90965.3984 - val_loss: 84960.6641\n",
            "Epoch 56/100\n",
            "250/250 [==============================] - 1s 2ms/step - loss: 84508.8906 - val_loss: 81513.7344\n",
            "Epoch 57/100\n",
            "250/250 [==============================] - 1s 3ms/step - loss: 78811.0625 - val_loss: 80142.2969\n",
            "Epoch 58/100\n",
            "250/250 [==============================] - 1s 3ms/step - loss: 73372.7031 - val_loss: 74875.6797\n",
            "Epoch 59/100\n",
            "250/250 [==============================] - 1s 3ms/step - loss: 69580.9844 - val_loss: 69595.5781\n",
            "Epoch 60/100\n",
            "250/250 [==============================] - 1s 2ms/step - loss: 64624.4883 - val_loss: 59730.6992\n",
            "Epoch 61/100\n",
            "250/250 [==============================] - 1s 3ms/step - loss: 59979.8164 - val_loss: 56481.7461\n",
            "Epoch 62/100\n",
            "250/250 [==============================] - 1s 4ms/step - loss: 56073.6602 - val_loss: 55154.7188\n",
            "Epoch 63/100\n",
            "250/250 [==============================] - 1s 4ms/step - loss: 51939.5430 - val_loss: 54383.0586\n",
            "Epoch 64/100\n",
            "250/250 [==============================] - 1s 4ms/step - loss: 49137.1875 - val_loss: 44991.3359\n",
            "Epoch 65/100\n",
            "250/250 [==============================] - 1s 3ms/step - loss: 45072.2891 - val_loss: 41143.3359\n",
            "Epoch 66/100\n",
            "250/250 [==============================] - 1s 3ms/step - loss: 42103.7461 - val_loss: 38121.7617\n",
            "Epoch 67/100\n",
            "250/250 [==============================] - 1s 3ms/step - loss: 39220.9336 - val_loss: 35683.7422\n",
            "Epoch 68/100\n",
            "250/250 [==============================] - 1s 2ms/step - loss: 36289.7383 - val_loss: 34836.3945\n",
            "Epoch 69/100\n",
            "250/250 [==============================] - 1s 2ms/step - loss: 33558.0312 - val_loss: 33264.5742\n",
            "Epoch 70/100\n",
            "250/250 [==============================] - 1s 2ms/step - loss: 31843.4043 - val_loss: 30150.8379\n",
            "Epoch 71/100\n",
            "250/250 [==============================] - 1s 3ms/step - loss: 29126.7441 - val_loss: 26340.2500\n",
            "Epoch 72/100\n",
            "250/250 [==============================] - 1s 3ms/step - loss: 26634.4023 - val_loss: 27394.9980\n",
            "Epoch 73/100\n",
            "250/250 [==============================] - 1s 3ms/step - loss: 24569.6934 - val_loss: 24652.2852\n",
            "Epoch 74/100\n",
            "250/250 [==============================] - 1s 3ms/step - loss: 23744.5293 - val_loss: 22672.1504\n",
            "Epoch 75/100\n",
            "250/250 [==============================] - 1s 3ms/step - loss: 22157.3086 - val_loss: 21631.9941\n",
            "Epoch 76/100\n",
            "250/250 [==============================] - 1s 2ms/step - loss: 20172.2148 - val_loss: 18081.1074\n",
            "Epoch 77/100\n",
            "250/250 [==============================] - 1s 3ms/step - loss: 18917.4043 - val_loss: 17350.8125\n",
            "Epoch 78/100\n",
            "250/250 [==============================] - 1s 2ms/step - loss: 17853.9121 - val_loss: 15811.4199\n",
            "Epoch 79/100\n",
            "250/250 [==============================] - 1s 3ms/step - loss: 16411.7832 - val_loss: 15131.5537\n",
            "Epoch 80/100\n",
            "250/250 [==============================] - 1s 2ms/step - loss: 14988.0586 - val_loss: 13700.6074\n",
            "Epoch 81/100\n",
            "250/250 [==============================] - 1s 4ms/step - loss: 14429.2578 - val_loss: 13532.1104\n",
            "Epoch 82/100\n",
            "250/250 [==============================] - 1s 4ms/step - loss: 13573.2598 - val_loss: 14161.9600\n",
            "Epoch 83/100\n",
            "250/250 [==============================] - 1s 4ms/step - loss: 12533.6201 - val_loss: 11816.9346\n",
            "Epoch 84/100\n",
            "250/250 [==============================] - 1s 3ms/step - loss: 11822.3496 - val_loss: 12087.1113\n",
            "Epoch 85/100\n",
            "250/250 [==============================] - 1s 3ms/step - loss: 11048.4883 - val_loss: 10791.0791\n",
            "Epoch 86/100\n",
            "250/250 [==============================] - 1s 3ms/step - loss: 10395.5879 - val_loss: 9358.6719\n",
            "Epoch 87/100\n",
            "250/250 [==============================] - 1s 2ms/step - loss: 10179.0967 - val_loss: 10172.1348\n",
            "Epoch 88/100\n",
            "250/250 [==============================] - 1s 3ms/step - loss: 9180.9229 - val_loss: 8112.5581\n",
            "Epoch 89/100\n",
            "250/250 [==============================] - 1s 3ms/step - loss: 9447.6143 - val_loss: 9539.7988\n",
            "Epoch 90/100\n",
            "250/250 [==============================] - 1s 2ms/step - loss: 8505.5752 - val_loss: 7843.4517\n",
            "Epoch 91/100\n",
            "250/250 [==============================] - 1s 3ms/step - loss: 7756.8760 - val_loss: 7404.6226\n",
            "Epoch 92/100\n",
            "250/250 [==============================] - 1s 2ms/step - loss: 7310.4185 - val_loss: 6563.5918\n",
            "Epoch 93/100\n",
            "250/250 [==============================] - 1s 2ms/step - loss: 7206.4399 - val_loss: 7452.3872\n",
            "Epoch 94/100\n",
            "250/250 [==============================] - 1s 2ms/step - loss: 6354.2529 - val_loss: 5760.7031\n",
            "Epoch 95/100\n",
            "250/250 [==============================] - 1s 3ms/step - loss: 6198.2983 - val_loss: 7289.9282\n",
            "Epoch 96/100\n",
            "250/250 [==============================] - 1s 2ms/step - loss: 5983.4756 - val_loss: 5145.7090\n",
            "Epoch 97/100\n",
            "250/250 [==============================] - 1s 3ms/step - loss: 5858.8979 - val_loss: 4624.5791\n",
            "Epoch 98/100\n",
            "250/250 [==============================] - 1s 2ms/step - loss: 5889.5610 - val_loss: 4496.7661\n",
            "Epoch 99/100\n",
            "250/250 [==============================] - 1s 3ms/step - loss: 5296.1548 - val_loss: 4085.9995\n",
            "Epoch 100/100\n",
            "250/250 [==============================] - 1s 4ms/step - loss: 4772.1470 - val_loss: 4841.3462\n",
            "63/63 [==============================] - 0s 2ms/step - loss: 4841.3462\n",
            "Test loss: 4841.34619140625\n"
          ]
        },
        {
          "output_type": "display_data",
          "data": {
            "text/plain": [
              "<Figure size 432x288 with 1 Axes>"
            ],
            "image/png": "[encoded data removed]"
          },
          "metadata": {
            "needs_background": "light"
          }
        }
      ]
    },
    {
      "cell_type": "markdown",
      "metadata": {
        "id": "KYy8D3Wf9bV3"
      },
      "source": [
        "## Problem 2:\n",
        "\n",
        "### Feedforward Network\n",
        "- Hidden layer 1\n",
        "- Input size 784 [28X28] image\n",
        "- Hidden layer units 500\n",
        "- Output size 10\n",
        "- Other Hyperparameters:\n",
        " - num_epochs = 5\n",
        " - batch_size = 100\n",
        " - learning_rate = 0.001\n",
        "\n",
        "### Try out different regularization and optimization techniques and vary the corresponding hyperparameters\n",
        "- Hidden layers/units per layer\n",
        "- L2 regularization\n",
        "- Dropout\n",
        "- RMSProp\n",
        "- Adam\n",
        "- Minibatches\n",
        "\n",
        "### Tabulate your findings"
      ]
    },
    {
      "cell_type": "code",
      "execution_count": 2,
      "metadata": {
        "id": "OxZCLfmH9bV4"
      },
      "outputs": [],
      "source": [
        "import torch \n",
        "import torch.nn as nn\n",
        "import numpy as np\n",
        "\n",
        "\n",
        "import torchvision\n",
        "import torchvision.transforms as transforms"
      ]
    },
    {
      "cell_type": "code",
      "execution_count": 3,
      "metadata": {
        "id": "VX1xKKc19bV5"
      },
      "outputs": [],
      "source": [
        "input_size = 784\n",
        "hidden_size = 500\n",
        "num_classes = 10\n",
        "num_epochs = 5\n",
        "batch_size = 100\n",
        "learning_rate = 0.001"
      ]
    },
    {
      "cell_type": "markdown",
      "metadata": {
        "id": "f-OvyoZm9bV6"
      },
      "source": [
        "### Defining the network"
      ]
    },
    {
      "cell_type": "code",
      "execution_count": 4,
      "metadata": {
        "id": "5Rl659qE9bV6"
      },
      "outputs": [],
      "source": [
        "class NeuralNet(nn.Module):\n",
        "    def __init__(self, input_size, hidden_size, num_classes):\n",
        "        super(NeuralNet, self).__init__()\n",
        "        self.fc1 = nn.Linear(input_size, hidden_size)\n",
        "        self.relu = nn.ReLU()\n",
        "        self.fc2 = nn.Linear(hidden_size, num_classes)\n",
        "    \n",
        "    def forward(self, x):\n",
        "        out = self.fc1(x)\n",
        "        out = self.relu(out)\n",
        "        out = self.fc2(out)\n",
        "        return out"
      ]
    },
    {
      "cell_type": "markdown",
      "metadata": {
        "id": "AjMFKJQz9bV7"
      },
      "source": [
        "### Loading the datasets"
      ]
    },
    {
      "cell_type": "markdown",
      "metadata": {
        "id": "OUjnIro09bV7"
      },
      "source": [
        "<i> \n",
        "#### Note: If the following code does not work, do the following:\n",
        "- open a terminal and enter\n",
        "- pip install ipywidgets\n",
        "- jupyter nbextension enable --py widgetsnbextension\n",
        "\n",
        "#### If the second line shows [OK], it should work </i>"
      ]
    },
    {
      "cell_type": "code",
      "execution_count": 5,
      "metadata": {
        "colab": {
          "base_uri": "https://localhost:8080/",
          "height": 423,
          "referenced_widgets": [
            "dc993681a9fa4ccbb34a13e63f01e7d8",
            "005b9f38811f408cb99f87d1e8335e3d",
            "80c7abd0729c4956a79c2dd5fc0d4374",
            "1ae033e654ad48b6a8a4e58091f2fa03",
            "dc1297ef253c45b7b9bdd36c45aa280d",
            "6f5f733d964a410f9068de58b8d80eb1",
            "f77df5f840b445dda6bf9e5d0a672cf1",
            "befe72152ba34fd4b443cd821e8019a2",
            "1462ba9e01b14dfaaf0fdc2b725d23a5",
            "ad75690727374f7f8f241d20f367d1de",
            "3fa22d635cc4435280bd3d2b4e1b94be",
            "9c552b1352b6424295c9724d0ac453e6",
            "6f111bd68a2f4ce1a8330cc7daeb2ebe",
            "a731e1466aa14bfe815787e2abc9f916",
            "955e48bbcbb940e6b5d2b4bf46128788",
            "7d0d2edc24ae4bfbb5061903353687f8",
            "5b1066a29d864a9ea29055ca4afe1cda",
            "403efc0fb53b4a5190f748da69771233",
            "346dba712e434c3a8297f6a65cf43ebf",
            "8113b95ca008446d92275dace611200b",
            "65c9ee8925b84bbba59d8ef0b9acc47c",
            "3b2a27be5b45423b95d18a1f84369712",
            "9d428711324a4834a709385d2bc1ef1f",
            "e2c07f13e5894e5b98964a10df6a84cc",
            "06ac82ace23d4e9594ffb41ee13dae8b",
            "a1120da01cde489482d9904f501c8b1f",
            "0831d92a9d494df1988a16bb89d23adf",
            "953ed18398134ee7adb6e8a9aa64d53e",
            "ea4d59d477104482afb6047f46f8f846",
            "99d47277118142a9ae748b31c8566c79",
            "c99c7092db0a4a2583d187bac74d1c06",
            "f3154b83fb984322a6ddfb69f9dc20c8",
            "81865a3aebe34963b654595640441d9b",
            "22361cbee2ec4f788f893504a1f8aee3",
            "33880f1f572748d8962ce0637010a88d",
            "12ac60880c8c419ca4b3aee995bc0f7b",
            "86daf6ecc21a4bfcaa77ce072a87485c",
            "39e36449250449c9850752ac7156560b",
            "e28a307886d24a3282716b335948353f",
            "975c0cc4db3a45329662aa1197e7dc30",
            "e02c30b408d44009b7373c17c02c3c27",
            "dc3bf2ca15344da3ab184003ed1514cf",
            "636ba6e8093b41f78464c271949f33e8",
            "17afd7fd060f447b91dda5e2daf1bf48"
          ]
        },
        "id": "SJI0bhkG9bV8",
        "outputId": "8281aee5-80dd-494d-fd9c-a9bdaa446efd"
      },
      "outputs": [
        {
          "output_type": "stream",
          "name": "stdout",
          "text": [
            "Downloading http://yann.lecun.com/exdb/mnist/train-images-idx3-ubyte.gz\n",
            "Downloading http://yann.lecun.com/exdb/mnist/train-images-idx3-ubyte.gz to data/MNIST/raw/train-images-idx3-ubyte.gz\n"
          ]
        },
        {
          "output_type": "display_data",
          "data": {
            "text/plain": [
              "  0%|          | 0/9912422 [00:00<?, ?it/s]"
            ],
            "application/vnd.jupyter.widget-view+json": {
              "version_major": 2,
              "version_minor": 0,
              "model_id": "dc993681a9fa4ccbb34a13e63f01e7d8"
            }
          },
          "metadata": {}
        },
        {
          "output_type": "stream",
          "name": "stdout",
          "text": [
            "Extracting data/MNIST/raw/train-images-idx3-ubyte.gz to data/MNIST/raw\n",
            "\n",
            "Downloading http://yann.lecun.com/exdb/mnist/train-labels-idx1-ubyte.gz\n",
            "Downloading http://yann.lecun.com/exdb/mnist/train-labels-idx1-ubyte.gz to data/MNIST/raw/train-labels-idx1-ubyte.gz\n"
          ]
        },
        {
          "output_type": "display_data",
          "data": {
            "text/plain": [
              "  0%|          | 0/28881 [00:00<?, ?it/s]"
            ],
            "application/vnd.jupyter.widget-view+json": {
              "version_major": 2,
              "version_minor": 0,
              "model_id": "9c552b1352b6424295c9724d0ac453e6"
            }
          },
          "metadata": {}
        },
        {
          "output_type": "stream",
          "name": "stdout",
          "text": [
            "Extracting data/MNIST/raw/train-labels-idx1-ubyte.gz to data/MNIST/raw\n",
            "\n",
            "Downloading http://yann.lecun.com/exdb/mnist/t10k-images-idx3-ubyte.gz\n",
            "Downloading http://yann.lecun.com/exdb/mnist/t10k-images-idx3-ubyte.gz to data/MNIST/raw/t10k-images-idx3-ubyte.gz\n"
          ]
        },
        {
          "output_type": "display_data",
          "data": {
            "text/plain": [
              "  0%|          | 0/1648877 [00:00<?, ?it/s]"
            ],
            "application/vnd.jupyter.widget-view+json": {
              "version_major": 2,
              "version_minor": 0,
              "model_id": "9d428711324a4834a709385d2bc1ef1f"
            }
          },
          "metadata": {}
        },
        {
          "output_type": "stream",
          "name": "stdout",
          "text": [
            "Extracting data/MNIST/raw/t10k-images-idx3-ubyte.gz to data/MNIST/raw\n",
            "\n",
            "Downloading http://yann.lecun.com/exdb/mnist/t10k-labels-idx1-ubyte.gz\n",
            "Downloading http://yann.lecun.com/exdb/mnist/t10k-labels-idx1-ubyte.gz to data/MNIST/raw/t10k-labels-idx1-ubyte.gz\n"
          ]
        },
        {
          "output_type": "display_data",
          "data": {
            "text/plain": [
              "  0%|          | 0/4542 [00:00<?, ?it/s]"
            ],
            "application/vnd.jupyter.widget-view+json": {
              "version_major": 2,
              "version_minor": 0,
              "model_id": "22361cbee2ec4f788f893504a1f8aee3"
            }
          },
          "metadata": {}
        },
        {
          "output_type": "stream",
          "name": "stdout",
          "text": [
            "Extracting data/MNIST/raw/t10k-labels-idx1-ubyte.gz to data/MNIST/raw\n",
            "\n"
          ]
        }
      ],
      "source": [
        "train_dataset = torchvision.datasets.MNIST(root='data', \n",
        "                                           train=True, \n",
        "                                           transform=transforms.ToTensor(),download=True)\n",
        "\n",
        "train_loader = torch.utils.data.DataLoader(dataset=train_dataset, \n",
        "                                           batch_size=batch_size, shuffle=True)"
      ]
    },
    {
      "cell_type": "code",
      "execution_count": 6,
      "metadata": {
        "id": "MKADxw569bV9"
      },
      "outputs": [],
      "source": [
        "test_dataset = torchvision.datasets.MNIST(root='data', \n",
        "                                           train=False, \n",
        "                                           transform=transforms.ToTensor(),download=True)\n",
        "\n",
        "test_loader = torch.utils.data.DataLoader(dataset=test_dataset, \n",
        "                                           batch_size=batch_size, shuffle=True)"
      ]
    },
    {
      "cell_type": "markdown",
      "metadata": {
        "id": "s8b2UY_i9bV-"
      },
      "source": [
        "##### Display samples"
      ]
    },
    {
      "cell_type": "code",
      "execution_count": 7,
      "metadata": {
        "colab": {
          "base_uri": "https://localhost:8080/",
          "height": 282
        },
        "id": "txHwvrKc9bV-",
        "outputId": "02257a16-1968-4126-ed52-56166d214ea9"
      },
      "outputs": [
        {
          "output_type": "stream",
          "name": "stdout",
          "text": [
            "7\n"
          ]
        },
        {
          "output_type": "display_data",
          "data": {
            "text/plain": [
              "<Figure size 432x288 with 1 Axes>"
            ],
            "image/png": "[encoded data removed]"
          },
          "metadata": {
            "needs_background": "light"
          }
        }
      ],
      "source": [
        "import matplotlib.pyplot as plt\n",
        "\n",
        "for images, labels in train_loader:\n",
        "    print(labels[0].item())\n",
        " \n",
        "    plt.imshow(images[0].reshape((28,28)))\n",
        "    break"
      ]
    },
    {
      "cell_type": "code",
      "execution_count": 8,
      "metadata": {
        "id": "QKkbaprV9bV_"
      },
      "outputs": [],
      "source": [
        "model = NeuralNet(input_size, hidden_size, num_classes)"
      ]
    },
    {
      "cell_type": "code",
      "execution_count": 9,
      "metadata": {
        "id": "dUZAG0yp9bV_"
      },
      "outputs": [],
      "source": [
        "criterion = nn.CrossEntropyLoss()\n",
        "optimizer = torch.optim.Adam(model.parameters(), lr=learning_rate) "
      ]
    },
    {
      "cell_type": "markdown",
      "metadata": {
        "id": "hTtXX8579bWA"
      },
      "source": [
        "### Train the model"
      ]
    },
    {
      "cell_type": "code",
      "execution_count": 10,
      "metadata": {
        "colab": {
          "base_uri": "https://localhost:8080/"
        },
        "id": "ORtAvMJ09bWB",
        "outputId": "4746bca7-75fd-4546-e811-68293a34506d"
      },
      "outputs": [
        {
          "output_type": "stream",
          "name": "stdout",
          "text": [
            "Epoch [1/5], Step [100/600], Loss: 0.5386\n",
            "Epoch [1/5], Step [200/600], Loss: 0.1747\n",
            "Epoch [1/5], Step [300/600], Loss: 0.3555\n",
            "Epoch [1/5], Step [400/600], Loss: 0.2589\n",
            "Epoch [1/5], Step [500/600], Loss: 0.1164\n",
            "Epoch [1/5], Step [600/600], Loss: 0.0800\n",
            "Epoch [2/5], Step [100/600], Loss: 0.1551\n",
            "Epoch [2/5], Step [200/600], Loss: 0.1434\n",
            "Epoch [2/5], Step [300/600], Loss: 0.1543\n",
            "Epoch [2/5], Step [400/600], Loss: 0.0692\n",
            "Epoch [2/5], Step [500/600], Loss: 0.1443\n",
            "Epoch [2/5], Step [600/600], Loss: 0.0683\n",
            "Epoch [3/5], Step [100/600], Loss: 0.0472\n",
            "Epoch [3/5], Step [200/600], Loss: 0.0918\n",
            "Epoch [3/5], Step [300/600], Loss: 0.0635\n",
            "Epoch [3/5], Step [400/600], Loss: 0.0353\n",
            "Epoch [3/5], Step [500/600], Loss: 0.0843\n",
            "Epoch [3/5], Step [600/600], Loss: 0.0639\n",
            "Epoch [4/5], Step [100/600], Loss: 0.0374\n",
            "Epoch [4/5], Step [200/600], Loss: 0.0297\n",
            "Epoch [4/5], Step [300/600], Loss: 0.0632\n",
            "Epoch [4/5], Step [400/600], Loss: 0.0097\n",
            "Epoch [4/5], Step [500/600], Loss: 0.0701\n",
            "Epoch [4/5], Step [600/600], Loss: 0.0338\n",
            "Epoch [5/5], Step [100/600], Loss: 0.0286\n",
            "Epoch [5/5], Step [200/600], Loss: 0.0157\n",
            "Epoch [5/5], Step [300/600], Loss: 0.0718\n",
            "Epoch [5/5], Step [400/600], Loss: 0.0345\n",
            "Epoch [5/5], Step [500/600], Loss: 0.0374\n",
            "Epoch [5/5], Step [600/600], Loss: 0.0388\n"
          ]
        }
      ],
      "source": [
        "total_step = len(train_loader)\n",
        "for epoch in range(num_epochs):\n",
        "    for i, (images, labels) in enumerate(train_loader):  \n",
        "\n",
        "        images = images.reshape(-1, 28*28)\n",
        "        labels = labels\n",
        "        \n",
        "        outputs = model(images)\n",
        "        loss = criterion(outputs, labels)                \n",
        "        \n",
        "        optimizer.zero_grad()\n",
        "        loss.backward()\n",
        "        optimizer.step()        \n",
        "\n",
        "        if (i+1) % 100 == 0:\n",
        "            print ('Epoch [{}/{}], Step [{}/{}], Loss: {:.4f}' .format(epoch+1, num_epochs, i+1, total_step, loss.item()))\n",
        "        "
      ]
    },
    {
      "cell_type": "markdown",
      "metadata": {
        "id": "drNHU3vy9bWB"
      },
      "source": [
        "#### Taking 4 samples from the test set \n",
        "- display the image\n",
        "- print the true label\n",
        "- print the output probability distribution\n",
        "- print the predicted class"
      ]
    },
    {
      "cell_type": "code",
      "execution_count": 14,
      "metadata": {
        "colab": {
          "base_uri": "https://localhost:8080/",
          "height": 1000
        },
        "id": "ohttmADC9bWC",
        "outputId": "9656560a-d33b-436e-a5db-619d257600d2"
      },
      "outputs": [
        {
          "output_type": "display_data",
          "data": {
            "text/plain": [
              "<Figure size 432x288 with 1 Axes>"
            ],
            "image/png": "[encoded data removed]"
          },
          "metadata": {
            "needs_background": "light"
          }
        },
        {
          "output_type": "stream",
          "name": "stdout",
          "text": [
            "True label: tensor(5)\n",
            "Predicted class: tensor(5)\n",
            "Output probability distribution: tensor([1.7773e-11, 2.9550e-09, 1.6028e-11, 2.9452e-06, 2.4156e-14, 1.0000e+00,\n",
            "        1.2338e-11, 1.3373e-12, 3.1944e-09, 3.0719e-07])\n"
          ]
        },
        {
          "output_type": "display_data",
          "data": {
            "text/plain": [
              "<Figure size 432x288 with 1 Axes>"
            ],
            "image/png": "[encoded data removed]"
          },
          "metadata": {
            "needs_background": "light"
          }
        },
        {
          "output_type": "stream",
          "name": "stdout",
          "text": [
            "True label: tensor(9)\n",
            "Predicted class: tensor(9)\n",
            "Output probability distribution: tensor([1.0192e-06, 3.1842e-08, 1.3883e-05, 2.9431e-04, 2.1715e-05, 1.5448e-07,\n",
            "        6.0008e-10, 9.8845e-04, 3.8258e-06, 9.9868e-01])\n"
          ]
        },
        {
          "output_type": "display_data",
          "data": {
            "text/plain": [
              "<Figure size 432x288 with 1 Axes>"
            ],
            "image/png": "[encoded data removed]"
          },
          "metadata": {
            "needs_background": "light"
          }
        },
        {
          "output_type": "stream",
          "name": "stdout",
          "text": [
            "True label: tensor(7)\n",
            "Predicted class: tensor(7)\n",
            "Output probability distribution: tensor([4.5389e-09, 2.5288e-08, 1.3668e-06, 3.9605e-06, 4.0826e-14, 9.8851e-10,\n",
            "        8.0943e-16, 9.9999e-01, 5.6464e-11, 7.4505e-09])\n"
          ]
        },
        {
          "output_type": "display_data",
          "data": {
            "text/plain": [
              "<Figure size 432x288 with 1 Axes>"
            ],
            "image/png": "[encoded data removed]"
          },
          "metadata": {
            "needs_background": "light"
          }
        },
        {
          "output_type": "stream",
          "name": "stdout",
          "text": [
            "True label: tensor(9)\n",
            "Predicted class: tensor(9)\n",
            "Output probability distribution: tensor([1.7851e-08, 9.7024e-09, 5.4930e-07, 2.8577e-01, 8.5124e-05, 1.3821e-03,\n",
            "        3.3824e-12, 1.9309e-02, 9.7879e-05, 6.9335e-01])\n"
          ]
        }
      ],
      "source": [
        "import torch.nn.functional as F\n",
        "\n",
        "model.eval()\n",
        "\n",
        "dataiter = iter(test_loader)\n",
        "images, labels = dataiter.__next__()\n",
        "images = images.view(images.size(0), -1)\n",
        "\n",
        "with torch.no_grad():\n",
        "    outputs = model(images)\n",
        "\n",
        "_, predicted = torch.max(outputs.data, 1)\n",
        "\n",
        "for i in range(4):\n",
        "    image = images[i].view(28, 28)\n",
        "    label = labels[i]\n",
        "    predicted_class = predicted[i]\n",
        "    probs = F.softmax(outputs.data[i], dim=0)\n",
        "    \n",
        "    plt.imshow(image, cmap='gray')\n",
        "    plt.show()\n",
        "    print(\"True label:\", label)\n",
        "    print(\"Predicted class:\", predicted_class)\n",
        "    print(\"Output probability distribution:\", probs)\n"
      ]
    },
    {
      "cell_type": "markdown",
      "metadata": {
        "collapsed": true,
        "id": "zvzPCGNT9bWC"
      },
      "source": [
        "\n",
        "\n"
      ]
    }
  ],
  "metadata": {
    "kernelspec": {
      "display_name": "Python 3",
      "language": "python",
      "name": "python3"
    },
    "language_info": {
      "codemirror_mode": {
        "name": "ipython",
        "version": 3
      },
      "file_extension": ".py",
      "mimetype": "text/x-python",
      "name": "python",
      "nbconvert_exporter": "python",
      "pygments_lexer": "ipython3",
      "version": "3.7.6"
    },
    "colab": {
      "provenance": []
    },
    "widgets": {
      "application/vnd.jupyter.widget-state+json": {
        "dc993681a9fa4ccbb34a13e63f01e7d8": {
          "model_module": "@jupyter-widgets/controls",
          "model_name": "HBoxModel",
          "model_module_version": "1.5.0",
          "state": {
            "_dom_classes": [],
            "_model_module": "@jupyter-widgets/controls",
            "_model_module_version": "1.5.0",
            "_model_name": "HBoxModel",
            "_view_count": null,
            "_view_module": "@jupyter-widgets/controls",
            "_view_module_version": "1.5.0",
            "_view_name": "HBoxView",
            "box_style": "",
            "children": [
              "IPY_MODEL_005b9f38811f408cb99f87d1e8335e3d",
              "IPY_MODEL_80c7abd0729c4956a79c2dd5fc0d4374",
              "IPY_MODEL_1ae033e654ad48b6a8a4e58091f2fa03"
            ],
            "layout": "IPY_MODEL_dc1297ef253c45b7b9bdd36c45aa280d"
          }
        },
        "005b9f38811f408cb99f87d1e8335e3d": {
          "model_module": "@jupyter-widgets/controls",
          "model_name": "HTMLModel",
          "model_module_version": "1.5.0",
          "state": {
            "_dom_classes": [],
            "_model_module": "@jupyter-widgets/controls",
            "_model_module_version": "1.5.0",
            "_model_name": "HTMLModel",
            "_view_count": null,
            "_view_module": "@jupyter-widgets/controls",
            "_view_module_version": "1.5.0",
            "_view_name": "HTMLView",
            "description": "",
            "description_tooltip": null,
            "layout": "IPY_MODEL_6f5f733d964a410f9068de58b8d80eb1",
            "placeholder": "​",
            "style": "IPY_MODEL_f77df5f840b445dda6bf9e5d0a672cf1",
            "value": "100%"
          }
        },
        "80c7abd0729c4956a79c2dd5fc0d4374": {
          "model_module": "@jupyter-widgets/controls",
          "model_name": "FloatProgressModel",
          "model_module_version": "1.5.0",
          "state": {
            "_dom_classes": [],
            "_model_module": "@jupyter-widgets/controls",
            "_model_module_version": "1.5.0",
            "_model_name": "FloatProgressModel",
            "_view_count": null,
            "_view_module": "@jupyter-widgets/controls",
            "_view_module_version": "1.5.0",
            "_view_name": "ProgressView",
            "bar_style": "success",
            "description": "",
            "description_tooltip": null,
            "layout": "IPY_MODEL_befe72152ba34fd4b443cd821e8019a2",
            "max": 9912422,
            "min": 0,
            "orientation": "horizontal",
            "style": "IPY_MODEL_1462ba9e01b14dfaaf0fdc2b725d23a5",
            "value": 9912422
          }
        },
        "1ae033e654ad48b6a8a4e58091f2fa03": {
          "model_module": "@jupyter-widgets/controls",
          "model_name": "HTMLModel",
          "model_module_version": "1.5.0",
          "state": {
            "_dom_classes": [],
            "_model_module": "@jupyter-widgets/controls",
            "_model_module_version": "1.5.0",
            "_model_name": "HTMLModel",
            "_view_count": null,
            "_view_module": "@jupyter-widgets/controls",
            "_view_module_version": "1.5.0",
            "_view_name": "HTMLView",
            "description": "",
            "description_tooltip": null,
            "layout": "IPY_MODEL_ad75690727374f7f8f241d20f367d1de",
            "placeholder": "​",
            "style": "IPY_MODEL_3fa22d635cc4435280bd3d2b4e1b94be",
            "value": " 9912422/9912422 [00:00&lt;00:00, 18658071.25it/s]"
          }
        },
        "dc1297ef253c45b7b9bdd36c45aa280d": {
          "model_module": "@jupyter-widgets/base",
          "model_name": "LayoutModel",
          "model_module_version": "1.2.0",
          "state": {
            "_model_module": "@jupyter-widgets/base",
            "_model_module_version": "1.2.0",
            "_model_name": "LayoutModel",
            "_view_count": null,
            "_view_module": "@jupyter-widgets/base",
            "_view_module_version": "1.2.0",
            "_view_name": "LayoutView",
            "align_content": null,
            "align_items": null,
            "align_self": null,
            "border": null,
            "bottom": null,
            "display": null,
            "flex": null,
            "flex_flow": null,
            "grid_area": null,
            "grid_auto_columns": null,
            "grid_auto_flow": null,
            "grid_auto_rows": null,
            "grid_column": null,
            "grid_gap": null,
            "grid_row": null,
            "grid_template_areas": null,
            "grid_template_columns": null,
            "grid_template_rows": null,
            "height": null,
            "justify_content": null,
            "justify_items": null,
            "left": null,
            "margin": null,
            "max_height": null,
            "max_width": null,
            "min_height": null,
            "min_width": null,
            "object_fit": null,
            "object_position": null,
            "order": null,
            "overflow": null,
            "overflow_x": null,
            "overflow_y": null,
            "padding": null,
            "right": null,
            "top": null,
            "visibility": null,
            "width": null
          }
        },
        "6f5f733d964a410f9068de58b8d80eb1": {
          "model_module": "@jupyter-widgets/base",
          "model_name": "LayoutModel",
          "model_module_version": "1.2.0",
          "state": {
            "_model_module": "@jupyter-widgets/base",
            "_model_module_version": "1.2.0",
            "_model_name": "LayoutModel",
            "_view_count": null,
            "_view_module": "@jupyter-widgets/base",
            "_view_module_version": "1.2.0",
            "_view_name": "LayoutView",
            "align_content": null,
            "align_items": null,
            "align_self": null,
            "border": null,
            "bottom": null,
            "display": null,
            "flex": null,
            "flex_flow": null,
            "grid_area": null,
            "grid_auto_columns": null,
            "grid_auto_flow": null,
            "grid_auto_rows": null,
            "grid_column": null,
            "grid_gap": null,
            "grid_row": null,
            "grid_template_areas": null,
            "grid_template_columns": null,
            "grid_template_rows": null,
            "height": null,
            "justify_content": null,
            "justify_items": null,
            "left": null,
            "margin": null,
            "max_height": null,
            "max_width": null,
            "min_height": null,
            "min_width": null,
            "object_fit": null,
            "object_position": null,
            "order": null,
            "overflow": null,
            "overflow_x": null,
            "overflow_y": null,
            "padding": null,
            "right": null,
            "top": null,
            "visibility": null,
            "width": null
          }
        },
        "f77df5f840b445dda6bf9e5d0a672cf1": {
          "model_module": "@jupyter-widgets/controls",
          "model_name": "DescriptionStyleModel",
          "model_module_version": "1.5.0",
          "state": {
            "_model_module": "@jupyter-widgets/controls",
            "_model_module_version": "1.5.0",
            "_model_name": "DescriptionStyleModel",
            "_view_count": null,
            "_view_module": "@jupyter-widgets/base",
            "_view_module_version": "1.2.0",
            "_view_name": "StyleView",
            "description_width": ""
          }
        },
        "befe72152ba34fd4b443cd821e8019a2": {
          "model_module": "@jupyter-widgets/base",
          "model_name": "LayoutModel",
          "model_module_version": "1.2.0",
          "state": {
            "_model_module": "@jupyter-widgets/base",
            "_model_module_version": "1.2.0",
            "_model_name": "LayoutModel",
            "_view_count": null,
            "_view_module": "@jupyter-widgets/base",
            "_view_module_version": "1.2.0",
            "_view_name": "LayoutView",
            "align_content": null,
            "align_items": null,
            "align_self": null,
            "border": null,
            "bottom": null,
            "display": null,
            "flex": null,
            "flex_flow": null,
            "grid_area": null,
            "grid_auto_columns": null,
            "grid_auto_flow": null,
            "grid_auto_rows": null,
            "grid_column": null,
            "grid_gap": null,
            "grid_row": null,
            "grid_template_areas": null,
            "grid_template_columns": null,
            "grid_template_rows": null,
            "height": null,
            "justify_content": null,
            "justify_items": null,
            "left": null,
            "margin": null,
            "max_height": null,
            "max_width": null,
            "min_height": null,
            "min_width": null,
            "object_fit": null,
            "object_position": null,
            "order": null,
            "overflow": null,
            "overflow_x": null,
            "overflow_y": null,
            "padding": null,
            "right": null,
            "top": null,
            "visibility": null,
            "width": null
          }
        },
        "1462ba9e01b14dfaaf0fdc2b725d23a5": {
          "model_module": "@jupyter-widgets/controls",
          "model_name": "ProgressStyleModel",
          "model_module_version": "1.5.0",
          "state": {
            "_model_module": "@jupyter-widgets/controls",
            "_model_module_version": "1.5.0",
            "_model_name": "ProgressStyleModel",
            "_view_count": null,
            "_view_module": "@jupyter-widgets/base",
            "_view_module_version": "1.2.0",
            "_view_name": "StyleView",
            "bar_color": null,
            "description_width": ""
          }
        },
        "ad75690727374f7f8f241d20f367d1de": {
          "model_module": "@jupyter-widgets/base",
          "model_name": "LayoutModel",
          "model_module_version": "1.2.0",
          "state": {
            "_model_module": "@jupyter-widgets/base",
            "_model_module_version": "1.2.0",
            "_model_name": "LayoutModel",
            "_view_count": null,
            "_view_module": "@jupyter-widgets/base",
            "_view_module_version": "1.2.0",
            "_view_name": "LayoutView",
            "align_content": null,
            "align_items": null,
            "align_self": null,
            "border": null,
            "bottom": null,
            "display": null,
            "flex": null,
            "flex_flow": null,
            "grid_area": null,
            "grid_auto_columns": null,
            "grid_auto_flow": null,
            "grid_auto_rows": null,
            "grid_column": null,
            "grid_gap": null,
            "grid_row": null,
            "grid_template_areas": null,
            "grid_template_columns": null,
            "grid_template_rows": null,
            "height": null,
            "justify_content": null,
            "justify_items": null,
            "left": null,
            "margin": null,
            "max_height": null,
            "max_width": null,
            "min_height": null,
            "min_width": null,
            "object_fit": null,
            "object_position": null,
            "order": null,
            "overflow": null,
            "overflow_x": null,
            "overflow_y": null,
            "padding": null,
            "right": null,
            "top": null,
            "visibility": null,
            "width": null
          }
        },
        "3fa22d635cc4435280bd3d2b4e1b94be": {
          "model_module": "@jupyter-widgets/controls",
          "model_name": "DescriptionStyleModel",
          "model_module_version": "1.5.0",
          "state": {
            "_model_module": "@jupyter-widgets/controls",
            "_model_module_version": "1.5.0",
            "_model_name": "DescriptionStyleModel",
            "_view_count": null,
            "_view_module": "@jupyter-widgets/base",
            "_view_module_version": "1.2.0",
            "_view_name": "StyleView",
            "description_width": ""
          }
        },
        "9c552b1352b6424295c9724d0ac453e6": {
          "model_module": "@jupyter-widgets/controls",
          "model_name": "HBoxModel",
          "model_module_version": "1.5.0",
          "state": {
            "_dom_classes": [],
            "_model_module": "@jupyter-widgets/controls",
            "_model_module_version": "1.5.0",
            "_model_name": "HBoxModel",
            "_view_count": null,
            "_view_module": "@jupyter-widgets/controls",
            "_view_module_version": "1.5.0",
            "_view_name": "HBoxView",
            "box_style": "",
            "children": [
              "IPY_MODEL_6f111bd68a2f4ce1a8330cc7daeb2ebe",
              "IPY_MODEL_a731e1466aa14bfe815787e2abc9f916",
              "IPY_MODEL_955e48bbcbb940e6b5d2b4bf46128788"
            ],
            "layout": "IPY_MODEL_7d0d2edc24ae4bfbb5061903353687f8"
          }
        },
        "6f111bd68a2f4ce1a8330cc7daeb2ebe": {
          "model_module": "@jupyter-widgets/controls",
          "model_name": "HTMLModel",
          "model_module_version": "1.5.0",
          "state": {
            "_dom_classes": [],
            "_model_module": "@jupyter-widgets/controls",
            "_model_module_version": "1.5.0",
            "_model_name": "HTMLModel",
            "_view_count": null,
            "_view_module": "@jupyter-widgets/controls",
            "_view_module_version": "1.5.0",
            "_view_name": "HTMLView",
            "description": "",
            "description_tooltip": null,
            "layout": "IPY_MODEL_5b1066a29d864a9ea29055ca4afe1cda",
            "placeholder": "​",
            "style": "IPY_MODEL_403efc0fb53b4a5190f748da69771233",
            "value": "100%"
          }
        },
        "a731e1466aa14bfe815787e2abc9f916": {
          "model_module": "@jupyter-widgets/controls",
          "model_name": "FloatProgressModel",
          "model_module_version": "1.5.0",
          "state": {
            "_dom_classes": [],
            "_model_module": "@jupyter-widgets/controls",
            "_model_module_version": "1.5.0",
            "_model_name": "FloatProgressModel",
            "_view_count": null,
            "_view_module": "@jupyter-widgets/controls",
            "_view_module_version": "1.5.0",
            "_view_name": "ProgressView",
            "bar_style": "success",
            "description": "",
            "description_tooltip": null,
            "layout": "IPY_MODEL_346dba712e434c3a8297f6a65cf43ebf",
            "max": 28881,
            "min": 0,
            "orientation": "horizontal",
            "style": "IPY_MODEL_8113b95ca008446d92275dace611200b",
            "value": 28881
          }
        },
        "955e48bbcbb940e6b5d2b4bf46128788": {
          "model_module": "@jupyter-widgets/controls",
          "model_name": "HTMLModel",
          "model_module_version": "1.5.0",
          "state": {
            "_dom_classes": [],
            "_model_module": "@jupyter-widgets/controls",
            "_model_module_version": "1.5.0",
            "_model_name": "HTMLModel",
            "_view_count": null,
            "_view_module": "@jupyter-widgets/controls",
            "_view_module_version": "1.5.0",
            "_view_name": "HTMLView",
            "description": "",
            "description_tooltip": null,
            "layout": "IPY_MODEL_65c9ee8925b84bbba59d8ef0b9acc47c",
            "placeholder": "​",
            "style": "IPY_MODEL_3b2a27be5b45423b95d18a1f84369712",
            "value": " 28881/28881 [00:00&lt;00:00, 1210243.51it/s]"
          }
        },
        "7d0d2edc24ae4bfbb5061903353687f8": {
          "model_module": "@jupyter-widgets/base",
          "model_name": "LayoutModel",
          "model_module_version": "1.2.0",
          "state": {
            "_model_module": "@jupyter-widgets/base",
            "_model_module_version": "1.2.0",
            "_model_name": "LayoutModel",
            "_view_count": null,
            "_view_module": "@jupyter-widgets/base",
            "_view_module_version": "1.2.0",
            "_view_name": "LayoutView",
            "align_content": null,
            "align_items": null,
            "align_self": null,
            "border": null,
            "bottom": null,
            "display": null,
            "flex": null,
            "flex_flow": null,
            "grid_area": null,
            "grid_auto_columns": null,
            "grid_auto_flow": null,
            "grid_auto_rows": null,
            "grid_column": null,
            "grid_gap": null,
            "grid_row": null,
            "grid_template_areas": null,
            "grid_template_columns": null,
            "grid_template_rows": null,
            "height": null,
            "justify_content": null,
            "justify_items": null,
            "left": null,
            "margin": null,
            "max_height": null,
            "max_width": null,
            "min_height": null,
            "min_width": null,
            "object_fit": null,
            "object_position": null,
            "order": null,
            "overflow": null,
            "overflow_x": null,
            "overflow_y": null,
            "padding": null,
            "right": null,
            "top": null,
            "visibility": null,
            "width": null
          }
        },
        "5b1066a29d864a9ea29055ca4afe1cda": {
          "model_module": "@jupyter-widgets/base",
          "model_name": "LayoutModel",
          "model_module_version": "1.2.0",
          "state": {
            "_model_module": "@jupyter-widgets/base",
            "_model_module_version": "1.2.0",
            "_model_name": "LayoutModel",
            "_view_count": null,
            "_view_module": "@jupyter-widgets/base",
            "_view_module_version": "1.2.0",
            "_view_name": "LayoutView",
            "align_content": null,
            "align_items": null,
            "align_self": null,
            "border": null,
            "bottom": null,
            "display": null,
            "flex": null,
            "flex_flow": null,
            "grid_area": null,
            "grid_auto_columns": null,
            "grid_auto_flow": null,
            "grid_auto_rows": null,
            "grid_column": null,
            "grid_gap": null,
            "grid_row": null,
            "grid_template_areas": null,
            "grid_template_columns": null,
            "grid_template_rows": null,
            "height": null,
            "justify_content": null,
            "justify_items": null,
            "left": null,
            "margin": null,
            "max_height": null,
            "max_width": null,
            "min_height": null,
            "min_width": null,
            "object_fit": null,
            "object_position": null,
            "order": null,
            "overflow": null,
            "overflow_x": null,
            "overflow_y": null,
            "padding": null,
            "right": null,
            "top": null,
            "visibility": null,
            "width": null
          }
        },
        "403efc0fb53b4a5190f748da69771233": {
          "model_module": "@jupyter-widgets/controls",
          "model_name": "DescriptionStyleModel",
          "model_module_version": "1.5.0",
          "state": {
            "_model_module": "@jupyter-widgets/controls",
            "_model_module_version": "1.5.0",
            "_model_name": "DescriptionStyleModel",
            "_view_count": null,
            "_view_module": "@jupyter-widgets/base",
            "_view_module_version": "1.2.0",
            "_view_name": "StyleView",
            "description_width": ""
          }
        },
        "346dba712e434c3a8297f6a65cf43ebf": {
          "model_module": "@jupyter-widgets/base",
          "model_name": "LayoutModel",
          "model_module_version": "1.2.0",
          "state": {
            "_model_module": "@jupyter-widgets/base",
            "_model_module_version": "1.2.0",
            "_model_name": "LayoutModel",
            "_view_count": null,
            "_view_module": "@jupyter-widgets/base",
            "_view_module_version": "1.2.0",
            "_view_name": "LayoutView",
            "align_content": null,
            "align_items": null,
            "align_self": null,
            "border": null,
            "bottom": null,
            "display": null,
            "flex": null,
            "flex_flow": null,
            "grid_area": null,
            "grid_auto_columns": null,
            "grid_auto_flow": null,
            "grid_auto_rows": null,
            "grid_column": null,
            "grid_gap": null,
            "grid_row": null,
            "grid_template_areas": null,
            "grid_template_columns": null,
            "grid_template_rows": null,
            "height": null,
            "justify_content": null,
            "justify_items": null,
            "left": null,
            "margin": null,
            "max_height": null,
            "max_width": null,
            "min_height": null,
            "min_width": null,
            "object_fit": null,
            "object_position": null,
            "order": null,
            "overflow": null,
            "overflow_x": null,
            "overflow_y": null,
            "padding": null,
            "right": null,
            "top": null,
            "visibility": null,
            "width": null
          }
        },
        "8113b95ca008446d92275dace611200b": {
          "model_module": "@jupyter-widgets/controls",
          "model_name": "ProgressStyleModel",
          "model_module_version": "1.5.0",
          "state": {
            "_model_module": "@jupyter-widgets/controls",
            "_model_module_version": "1.5.0",
            "_model_name": "ProgressStyleModel",
            "_view_count": null,
            "_view_module": "@jupyter-widgets/base",
            "_view_module_version": "1.2.0",
            "_view_name": "StyleView",
            "bar_color": null,
            "description_width": ""
          }
        },
        "65c9ee8925b84bbba59d8ef0b9acc47c": {
          "model_module": "@jupyter-widgets/base",
          "model_name": "LayoutModel",
          "model_module_version": "1.2.0",
          "state": {
            "_model_module": "@jupyter-widgets/base",
            "_model_module_version": "1.2.0",
            "_model_name": "LayoutModel",
            "_view_count": null,
            "_view_module": "@jupyter-widgets/base",
            "_view_module_version": "1.2.0",
            "_view_name": "LayoutView",
            "align_content": null,
            "align_items": null,
            "align_self": null,
            "border": null,
            "bottom": null,
            "display": null,
            "flex": null,
            "flex_flow": null,
            "grid_area": null,
            "grid_auto_columns": null,
            "grid_auto_flow": null,
            "grid_auto_rows": null,
            "grid_column": null,
            "grid_gap": null,
            "grid_row": null,
            "grid_template_areas": null,
            "grid_template_columns": null,
            "grid_template_rows": null,
            "height": null,
            "justify_content": null,
            "justify_items": null,
            "left": null,
            "margin": null,
            "max_height": null,
            "max_width": null,
            "min_height": null,
            "min_width": null,
            "object_fit": null,
            "object_position": null,
            "order": null,
            "overflow": null,
            "overflow_x": null,
            "overflow_y": null,
            "padding": null,
            "right": null,
            "top": null,
            "visibility": null,
            "width": null
          }
        },
        "3b2a27be5b45423b95d18a1f84369712": {
          "model_module": "@jupyter-widgets/controls",
          "model_name": "DescriptionStyleModel",
          "model_module_version": "1.5.0",
          "state": {
            "_model_module": "@jupyter-widgets/controls",
            "_model_module_version": "1.5.0",
            "_model_name": "DescriptionStyleModel",
            "_view_count": null,
            "_view_module": "@jupyter-widgets/base",
            "_view_module_version": "1.2.0",
            "_view_name": "StyleView",
            "description_width": ""
          }
        },
        "9d428711324a4834a709385d2bc1ef1f": {
          "model_module": "@jupyter-widgets/controls",
          "model_name": "HBoxModel",
          "model_module_version": "1.5.0",
          "state": {
            "_dom_classes": [],
            "_model_module": "@jupyter-widgets/controls",
            "_model_module_version": "1.5.0",
            "_model_name": "HBoxModel",
            "_view_count": null,
            "_view_module": "@jupyter-widgets/controls",
            "_view_module_version": "1.5.0",
            "_view_name": "HBoxView",
            "box_style": "",
            "children": [
              "IPY_MODEL_e2c07f13e5894e5b98964a10df6a84cc",
              "IPY_MODEL_06ac82ace23d4e9594ffb41ee13dae8b",
              "IPY_MODEL_a1120da01cde489482d9904f501c8b1f"
            ],
            "layout": "IPY_MODEL_0831d92a9d494df1988a16bb89d23adf"
          }
        },
        "e2c07f13e5894e5b98964a10df6a84cc": {
          "model_module": "@jupyter-widgets/controls",
          "model_name": "HTMLModel",
          "model_module_version": "1.5.0",
          "state": {
            "_dom_classes": [],
            "_model_module": "@jupyter-widgets/controls",
            "_model_module_version": "1.5.0",
            "_model_name": "HTMLModel",
            "_view_count": null,
            "_view_module": "@jupyter-widgets/controls",
            "_view_module_version": "1.5.0",
            "_view_name": "HTMLView",
            "description": "",
            "description_tooltip": null,
            "layout": "IPY_MODEL_953ed18398134ee7adb6e8a9aa64d53e",
            "placeholder": "​",
            "style": "IPY_MODEL_ea4d59d477104482afb6047f46f8f846",
            "value": "100%"
          }
        },
        "06ac82ace23d4e9594ffb41ee13dae8b": {
          "model_module": "@jupyter-widgets/controls",
          "model_name": "FloatProgressModel",
          "model_module_version": "1.5.0",
          "state": {
            "_dom_classes": [],
            "_model_module": "@jupyter-widgets/controls",
            "_model_module_version": "1.5.0",
            "_model_name": "FloatProgressModel",
            "_view_count": null,
            "_view_module": "@jupyter-widgets/controls",
            "_view_module_version": "1.5.0",
            "_view_name": "ProgressView",
            "bar_style": "success",
            "description": "",
            "description_tooltip": null,
            "layout": "IPY_MODEL_99d47277118142a9ae748b31c8566c79",
            "max": 1648877,
            "min": 0,
            "orientation": "horizontal",
            "style": "IPY_MODEL_c99c7092db0a4a2583d187bac74d1c06",
            "value": 1648877
          }
        },
        "a1120da01cde489482d9904f501c8b1f": {
          "model_module": "@jupyter-widgets/controls",
          "model_name": "HTMLModel",
          "model_module_version": "1.5.0",
          "state": {
            "_dom_classes": [],
            "_model_module": "@jupyter-widgets/controls",
            "_model_module_version": "1.5.0",
            "_model_name": "HTMLModel",
            "_view_count": null,
            "_view_module": "@jupyter-widgets/controls",
            "_view_module_version": "1.5.0",
            "_view_name": "HTMLView",
            "description": "",
            "description_tooltip": null,
            "layout": "IPY_MODEL_f3154b83fb984322a6ddfb69f9dc20c8",
            "placeholder": "​",
            "style": "IPY_MODEL_81865a3aebe34963b654595640441d9b",
            "value": " 1648877/1648877 [00:00&lt;00:00, 19134854.69it/s]"
          }
        },
        "0831d92a9d494df1988a16bb89d23adf": {
          "model_module": "@jupyter-widgets/base",
          "model_name": "LayoutModel",
          "model_module_version": "1.2.0",
          "state": {
            "_model_module": "@jupyter-widgets/base",
            "_model_module_version": "1.2.0",
            "_model_name": "LayoutModel",
            "_view_count": null,
            "_view_module": "@jupyter-widgets/base",
            "_view_module_version": "1.2.0",
            "_view_name": "LayoutView",
            "align_content": null,
            "align_items": null,
            "align_self": null,
            "border": null,
            "bottom": null,
            "display": null,
            "flex": null,
            "flex_flow": null,
            "grid_area": null,
            "grid_auto_columns": null,
            "grid_auto_flow": null,
            "grid_auto_rows": null,
            "grid_column": null,
            "grid_gap": null,
            "grid_row": null,
            "grid_template_areas": null,
            "grid_template_columns": null,
            "grid_template_rows": null,
            "height": null,
            "justify_content": null,
            "justify_items": null,
            "left": null,
            "margin": null,
            "max_height": null,
            "max_width": null,
            "min_height": null,
            "min_width": null,
            "object_fit": null,
            "object_position": null,
            "order": null,
            "overflow": null,
            "overflow_x": null,
            "overflow_y": null,
            "padding": null,
            "right": null,
            "top": null,
            "visibility": null,
            "width": null
          }
        },
        "953ed18398134ee7adb6e8a9aa64d53e": {
          "model_module": "@jupyter-widgets/base",
          "model_name": "LayoutModel",
          "model_module_version": "1.2.0",
          "state": {
            "_model_module": "@jupyter-widgets/base",
            "_model_module_version": "1.2.0",
            "_model_name": "LayoutModel",
            "_view_count": null,
            "_view_module": "@jupyter-widgets/base",
            "_view_module_version": "1.2.0",
            "_view_name": "LayoutView",
            "align_content": null,
            "align_items": null,
            "align_self": null,
            "border": null,
            "bottom": null,
            "display": null,
            "flex": null,
            "flex_flow": null,
            "grid_area": null,
            "grid_auto_columns": null,
            "grid_auto_flow": null,
            "grid_auto_rows": null,
            "grid_column": null,
            "grid_gap": null,
            "grid_row": null,
            "grid_template_areas": null,
            "grid_template_columns": null,
            "grid_template_rows": null,
            "height": null,
            "justify_content": null,
            "justify_items": null,
            "left": null,
            "margin": null,
            "max_height": null,
            "max_width": null,
            "min_height": null,
            "min_width": null,
            "object_fit": null,
            "object_position": null,
            "order": null,
            "overflow": null,
            "overflow_x": null,
            "overflow_y": null,
            "padding": null,
            "right": null,
            "top": null,
            "visibility": null,
            "width": null
          }
        },
        "ea4d59d477104482afb6047f46f8f846": {
          "model_module": "@jupyter-widgets/controls",
          "model_name": "DescriptionStyleModel",
          "model_module_version": "1.5.0",
          "state": {
            "_model_module": "@jupyter-widgets/controls",
            "_model_module_version": "1.5.0",
            "_model_name": "DescriptionStyleModel",
            "_view_count": null,
            "_view_module": "@jupyter-widgets/base",
            "_view_module_version": "1.2.0",
            "_view_name": "StyleView",
            "description_width": ""
          }
        },
        "99d47277118142a9ae748b31c8566c79": {
          "model_module": "@jupyter-widgets/base",
          "model_name": "LayoutModel",
          "model_module_version": "1.2.0",
          "state": {
            "_model_module": "@jupyter-widgets/base",
            "_model_module_version": "1.2.0",
            "_model_name": "LayoutModel",
            "_view_count": null,
            "_view_module": "@jupyter-widgets/base",
            "_view_module_version": "1.2.0",
            "_view_name": "LayoutView",
            "align_content": null,
            "align_items": null,
            "align_self": null,
            "border": null,
            "bottom": null,
            "display": null,
            "flex": null,
            "flex_flow": null,
            "grid_area": null,
            "grid_auto_columns": null,
            "grid_auto_flow": null,
            "grid_auto_rows": null,
            "grid_column": null,
            "grid_gap": null,
            "grid_row": null,
            "grid_template_areas": null,
            "grid_template_columns": null,
            "grid_template_rows": null,
            "height": null,
            "justify_content": null,
            "justify_items": null,
            "left": null,
            "margin": null,
            "max_height": null,
            "max_width": null,
            "min_height": null,
            "min_width": null,
            "object_fit": null,
            "object_position": null,
            "order": null,
            "overflow": null,
            "overflow_x": null,
            "overflow_y": null,
            "padding": null,
            "right": null,
            "top": null,
            "visibility": null,
            "width": null
          }
        },
        "c99c7092db0a4a2583d187bac74d1c06": {
          "model_module": "@jupyter-widgets/controls",
          "model_name": "ProgressStyleModel",
          "model_module_version": "1.5.0",
          "state": {
            "_model_module": "@jupyter-widgets/controls",
            "_model_module_version": "1.5.0",
            "_model_name": "ProgressStyleModel",
            "_view_count": null,
            "_view_module": "@jupyter-widgets/base",
            "_view_module_version": "1.2.0",
            "_view_name": "StyleView",
            "bar_color": null,
            "description_width": ""
          }
        },
        "f3154b83fb984322a6ddfb69f9dc20c8": {
          "model_module": "@jupyter-widgets/base",
          "model_name": "LayoutModel",
          "model_module_version": "1.2.0",
          "state": {
            "_model_module": "@jupyter-widgets/base",
            "_model_module_version": "1.2.0",
            "_model_name": "LayoutModel",
            "_view_count": null,
            "_view_module": "@jupyter-widgets/base",
            "_view_module_version": "1.2.0",
            "_view_name": "LayoutView",
            "align_content": null,
            "align_items": null,
            "align_self": null,
            "border": null,
            "bottom": null,
            "display": null,
            "flex": null,
            "flex_flow": null,
            "grid_area": null,
            "grid_auto_columns": null,
            "grid_auto_flow": null,
            "grid_auto_rows": null,
            "grid_column": null,
            "grid_gap": null,
            "grid_row": null,
            "grid_template_areas": null,
            "grid_template_columns": null,
            "grid_template_rows": null,
            "height": null,
            "justify_content": null,
            "justify_items": null,
            "left": null,
            "margin": null,
            "max_height": null,
            "max_width": null,
            "min_height": null,
            "min_width": null,
            "object_fit": null,
            "object_position": null,
            "order": null,
            "overflow": null,
            "overflow_x": null,
            "overflow_y": null,
            "padding": null,
            "right": null,
            "top": null,
            "visibility": null,
            "width": null
          }
        },
        "81865a3aebe34963b654595640441d9b": {
          "model_module": "@jupyter-widgets/controls",
          "model_name": "DescriptionStyleModel",
          "model_module_version": "1.5.0",
          "state": {
            "_model_module": "@jupyter-widgets/controls",
            "_model_module_version": "1.5.0",
            "_model_name": "DescriptionStyleModel",
            "_view_count": null,
            "_view_module": "@jupyter-widgets/base",
            "_view_module_version": "1.2.0",
            "_view_name": "StyleView",
            "description_width": ""
          }
        },
        "22361cbee2ec4f788f893504a1f8aee3": {
          "model_module": "@jupyter-widgets/controls",
          "model_name": "HBoxModel",
          "model_module_version": "1.5.0",
          "state": {
            "_dom_classes": [],
            "_model_module": "@jupyter-widgets/controls",
            "_model_module_version": "1.5.0",
            "_model_name": "HBoxModel",
            "_view_count": null,
            "_view_module": "@jupyter-widgets/controls",
            "_view_module_version": "1.5.0",
            "_view_name": "HBoxView",
            "box_style": "",
            "children": [
              "IPY_MODEL_33880f1f572748d8962ce0637010a88d",
              "IPY_MODEL_12ac60880c8c419ca4b3aee995bc0f7b",
              "IPY_MODEL_86daf6ecc21a4bfcaa77ce072a87485c"
            ],
            "layout": "IPY_MODEL_39e36449250449c9850752ac7156560b"
          }
        },
        "33880f1f572748d8962ce0637010a88d": {
          "model_module": "@jupyter-widgets/controls",
          "model_name": "HTMLModel",
          "model_module_version": "1.5.0",
          "state": {
            "_dom_classes": [],
            "_model_module": "@jupyter-widgets/controls",
            "_model_module_version": "1.5.0",
            "_model_name": "HTMLModel",
            "_view_count": null,
            "_view_module": "@jupyter-widgets/controls",
            "_view_module_version": "1.5.0",
            "_view_name": "HTMLView",
            "description": "",
            "description_tooltip": null,
            "layout": "IPY_MODEL_e28a307886d24a3282716b335948353f",
            "placeholder": "​",
            "style": "IPY_MODEL_975c0cc4db3a45329662aa1197e7dc30",
            "value": "100%"
          }
        },
        "12ac60880c8c419ca4b3aee995bc0f7b": {
          "model_module": "@jupyter-widgets/controls",
          "model_name": "FloatProgressModel",
          "model_module_version": "1.5.0",
          "state": {
            "_dom_classes": [],
            "_model_module": "@jupyter-widgets/controls",
            "_model_module_version": "1.5.0",
            "_model_name": "FloatProgressModel",
            "_view_count": null,
            "_view_module": "@jupyter-widgets/controls",
            "_view_module_version": "1.5.0",
            "_view_name": "ProgressView",
            "bar_style": "success",
            "description": "",
            "description_tooltip": null,
            "layout": "IPY_MODEL_e02c30b408d44009b7373c17c02c3c27",
            "max": 4542,
            "min": 0,
            "orientation": "horizontal",
            "style": "IPY_MODEL_dc3bf2ca15344da3ab184003ed1514cf",
            "value": 4542
          }
        },
        "86daf6ecc21a4bfcaa77ce072a87485c": {
          "model_module": "@jupyter-widgets/controls",
          "model_name": "HTMLModel",
          "model_module_version": "1.5.0",
          "state": {
            "_dom_classes": [],
            "_model_module": "@jupyter-widgets/controls",
            "_model_module_version": "1.5.0",
            "_model_name": "HTMLModel",
            "_view_count": null,
            "_view_module": "@jupyter-widgets/controls",
            "_view_module_version": "1.5.0",
            "_view_name": "HTMLView",
            "description": "",
            "description_tooltip": null,
            "layout": "IPY_MODEL_636ba6e8093b41f78464c271949f33e8",
            "placeholder": "​",
            "style": "IPY_MODEL_17afd7fd060f447b91dda5e2daf1bf48",
            "value": " 4542/4542 [00:00&lt;00:00, 171850.88it/s]"
          }
        },
        "39e36449250449c9850752ac7156560b": {
          "model_module": "@jupyter-widgets/base",
          "model_name": "LayoutModel",
          "model_module_version": "1.2.0",
          "state": {
            "_model_module": "@jupyter-widgets/base",
            "_model_module_version": "1.2.0",
            "_model_name": "LayoutModel",
            "_view_count": null,
            "_view_module": "@jupyter-widgets/base",
            "_view_module_version": "1.2.0",
            "_view_name": "LayoutView",
            "align_content": null,
            "align_items": null,
            "align_self": null,
            "border": null,
            "bottom": null,
            "display": null,
            "flex": null,
            "flex_flow": null,
            "grid_area": null,
            "grid_auto_columns": null,
            "grid_auto_flow": null,
            "grid_auto_rows": null,
            "grid_column": null,
            "grid_gap": null,
            "grid_row": null,
            "grid_template_areas": null,
            "grid_template_columns": null,
            "grid_template_rows": null,
            "height": null,
            "justify_content": null,
            "justify_items": null,
            "left": null,
            "margin": null,
            "max_height": null,
            "max_width": null,
            "min_height": null,
            "min_width": null,
            "object_fit": null,
            "object_position": null,
            "order": null,
            "overflow": null,
            "overflow_x": null,
            "overflow_y": null,
            "padding": null,
            "right": null,
            "top": null,
            "visibility": null,
            "width": null
          }
        },
        "e28a307886d24a3282716b335948353f": {
          "model_module": "@jupyter-widgets/base",
          "model_name": "LayoutModel",
          "model_module_version": "1.2.0",
          "state": {
            "_model_module": "@jupyter-widgets/base",
            "_model_module_version": "1.2.0",
            "_model_name": "LayoutModel",
            "_view_count": null,
            "_view_module": "@jupyter-widgets/base",
            "_view_module_version": "1.2.0",
            "_view_name": "LayoutView",
            "align_content": null,
            "align_items": null,
            "align_self": null,
            "border": null,
            "bottom": null,
            "display": null,
            "flex": null,
            "flex_flow": null,
            "grid_area": null,
            "grid_auto_columns": null,
            "grid_auto_flow": null,
            "grid_auto_rows": null,
            "grid_column": null,
            "grid_gap": null,
            "grid_row": null,
            "grid_template_areas": null,
            "grid_template_columns": null,
            "grid_template_rows": null,
            "height": null,
            "justify_content": null,
            "justify_items": null,
            "left": null,
            "margin": null,
            "max_height": null,
            "max_width": null,
            "min_height": null,
            "min_width": null,
            "object_fit": null,
            "object_position": null,
            "order": null,
            "overflow": null,
            "overflow_x": null,
            "overflow_y": null,
            "padding": null,
            "right": null,
            "top": null,
            "visibility": null,
            "width": null
          }
        },
        "975c0cc4db3a45329662aa1197e7dc30": {
          "model_module": "@jupyter-widgets/controls",
          "model_name": "DescriptionStyleModel",
          "model_module_version": "1.5.0",
          "state": {
            "_model_module": "@jupyter-widgets/controls",
            "_model_module_version": "1.5.0",
            "_model_name": "DescriptionStyleModel",
            "_view_count": null,
            "_view_module": "@jupyter-widgets/base",
            "_view_module_version": "1.2.0",
            "_view_name": "StyleView",
            "description_width": ""
          }
        },
        "e02c30b408d44009b7373c17c02c3c27": {
          "model_module": "@jupyter-widgets/base",
          "model_name": "LayoutModel",
          "model_module_version": "1.2.0",
          "state": {
            "_model_module": "@jupyter-widgets/base",
            "_model_module_version": "1.2.0",
            "_model_name": "LayoutModel",
            "_view_count": null,
            "_view_module": "@jupyter-widgets/base",
            "_view_module_version": "1.2.0",
            "_view_name": "LayoutView",
            "align_content": null,
            "align_items": null,
            "align_self": null,
            "border": null,
            "bottom": null,
            "display": null,
            "flex": null,
            "flex_flow": null,
            "grid_area": null,
            "grid_auto_columns": null,
            "grid_auto_flow": null,
            "grid_auto_rows": null,
            "grid_column": null,
            "grid_gap": null,
            "grid_row": null,
            "grid_template_areas": null,
            "grid_template_columns": null,
            "grid_template_rows": null,
            "height": null,
            "justify_content": null,
            "justify_items": null,
            "left": null,
            "margin": null,
            "max_height": null,
            "max_width": null,
            "min_height": null,
            "min_width": null,
            "object_fit": null,
            "object_position": null,
            "order": null,
            "overflow": null,
            "overflow_x": null,
            "overflow_y": null,
            "padding": null,
            "right": null,
            "top": null,
            "visibility": null,
            "width": null
          }
        },
        "dc3bf2ca15344da3ab184003ed1514cf": {
          "model_module": "@jupyter-widgets/controls",
          "model_name": "ProgressStyleModel",
          "model_module_version": "1.5.0",
          "state": {
            "_model_module": "@jupyter-widgets/controls",
            "_model_module_version": "1.5.0",
            "_model_name": "ProgressStyleModel",
            "_view_count": null,
            "_view_module": "@jupyter-widgets/base",
            "_view_module_version": "1.2.0",
            "_view_name": "StyleView",
            "bar_color": null,
            "description_width": ""
          }
        },
        "636ba6e8093b41f78464c271949f33e8": {
          "model_module": "@jupyter-widgets/base",
          "model_name": "LayoutModel",
          "model_module_version": "1.2.0",
          "state": {
            "_model_module": "@jupyter-widgets/base",
            "_model_module_version": "1.2.0",
            "_model_name": "LayoutModel",
            "_view_count": null,
            "_view_module": "@jupyter-widgets/base",
            "_view_module_version": "1.2.0",
            "_view_name": "LayoutView",
            "align_content": null,
            "align_items": null,
            "align_self": null,
            "border": null,
            "bottom": null,
            "display": null,
            "flex": null,
            "flex_flow": null,
            "grid_area": null,
            "grid_auto_columns": null,
            "grid_auto_flow": null,
            "grid_auto_rows": null,
            "grid_column": null,
            "grid_gap": null,
            "grid_row": null,
            "grid_template_areas": null,
            "grid_template_columns": null,
            "grid_template_rows": null,
            "height": null,
            "justify_content": null,
            "justify_items": null,
            "left": null,
            "margin": null,
            "max_height": null,
            "max_width": null,
            "min_height": null,
            "min_width": null,
            "object_fit": null,
            "object_position": null,
            "order": null,
            "overflow": null,
            "overflow_x": null,
            "overflow_y": null,
            "padding": null,
            "right": null,
            "top": null,
            "visibility": null,
            "width": null
          }
        },
        "17afd7fd060f447b91dda5e2daf1bf48": {
          "model_module": "@jupyter-widgets/controls",
          "model_name": "DescriptionStyleModel",
          "model_module_version": "1.5.0",
          "state": {
            "_model_module": "@jupyter-widgets/controls",
            "_model_module_version": "1.5.0",
            "_model_name": "DescriptionStyleModel",
            "_view_count": null,
            "_view_module": "@jupyter-widgets/base",
            "_view_module_version": "1.2.0",
            "_view_name": "StyleView",
            "description_width": ""
          }
        }
      }
    }
  },
  "nbformat": 4,
  "nbformat_minor": 0
}